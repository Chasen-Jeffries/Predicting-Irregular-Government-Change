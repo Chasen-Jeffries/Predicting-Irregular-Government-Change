{
 "cells": [
  {
   "cell_type": "code",
   "execution_count": 1,
   "id": "8b092d9d",
   "metadata": {},
   "outputs": [],
   "source": [
    "import pandas as pd"
   ]
  },
  {
   "cell_type": "code",
   "execution_count": 18,
   "id": "4eea16ee",
   "metadata": {
    "scrolled": false
   },
   "outputs": [],
   "source": [
    "df = pd.read_csv('Data/Original/Political/Political-Instability-CNTS.csv')"
   ]
  },
  {
   "cell_type": "code",
   "execution_count": null,
   "id": "12884d3b",
   "metadata": {
    "scrolled": false
   },
   "outputs": [],
   "source": [
    "df.head()"
   ]
  },
  {
   "cell_type": "code",
   "execution_count": 8,
   "id": "40d2c309",
   "metadata": {},
   "outputs": [
    {
     "data": {
      "text/plain": [
       "Index(['id', 'idyr', 'code', 'Wbcode', 'country', 'year', 'area1', 'area2',\n",
       "       'area3', 'pop1',\n",
       "       ...\n",
       "       'urban07', 'urban08', 'urban09', 'urban10', 'vehicle1', 'vehicle2',\n",
       "       'vehicle3', 'vehicle4', 'vehicle5', 'vehicle6'],\n",
       "      dtype='object', length=197)"
      ]
     },
     "execution_count": 8,
     "metadata": {},
     "output_type": "execute_result"
    }
   ],
   "source": [
    "df.columns"
   ]
  },
  {
   "cell_type": "code",
   "execution_count": 9,
   "id": "db6907ee",
   "metadata": {},
   "outputs": [],
   "source": [
    "columns_to_keep = ['country','year','domestic9']"
   ]
  },
  {
   "cell_type": "code",
   "execution_count": 14,
   "id": "0401f87d",
   "metadata": {},
   "outputs": [],
   "source": [
    "Column_names = ['Country','Year','PI']"
   ]
  },
  {
   "cell_type": "code",
   "execution_count": 11,
   "id": "2e8e9476",
   "metadata": {},
   "outputs": [
    {
     "data": {
      "text/html": [
       "<div>\n",
       "<style scoped>\n",
       "    .dataframe tbody tr th:only-of-type {\n",
       "        vertical-align: middle;\n",
       "    }\n",
       "\n",
       "    .dataframe tbody tr th {\n",
       "        vertical-align: top;\n",
       "    }\n",
       "\n",
       "    .dataframe thead th {\n",
       "        text-align: right;\n",
       "    }\n",
       "</style>\n",
       "<table border=\"1\" class=\"dataframe\">\n",
       "  <thead>\n",
       "    <tr style=\"text-align: right;\">\n",
       "      <th></th>\n",
       "      <th>country</th>\n",
       "      <th>year</th>\n",
       "      <th>domestic9</th>\n",
       "    </tr>\n",
       "  </thead>\n",
       "  <tbody>\n",
       "    <tr>\n",
       "      <th>0</th>\n",
       "      <td>Afghanistan</td>\n",
       "      <td>1950</td>\n",
       "      <td>0</td>\n",
       "    </tr>\n",
       "    <tr>\n",
       "      <th>1</th>\n",
       "      <td>Afghanistan</td>\n",
       "      <td>1951</td>\n",
       "      <td>0</td>\n",
       "    </tr>\n",
       "    <tr>\n",
       "      <th>2</th>\n",
       "      <td>Afghanistan</td>\n",
       "      <td>1952</td>\n",
       "      <td>0</td>\n",
       "    </tr>\n",
       "    <tr>\n",
       "      <th>3</th>\n",
       "      <td>Afghanistan</td>\n",
       "      <td>1953</td>\n",
       "      <td>0</td>\n",
       "    </tr>\n",
       "    <tr>\n",
       "      <th>4</th>\n",
       "      <td>Afghanistan</td>\n",
       "      <td>1954</td>\n",
       "      <td>0</td>\n",
       "    </tr>\n",
       "  </tbody>\n",
       "</table>\n",
       "</div>"
      ],
      "text/plain": [
       "       country  year domestic9\n",
       "0  Afghanistan  1950         0\n",
       "1  Afghanistan  1951         0\n",
       "2  Afghanistan  1952         0\n",
       "3  Afghanistan  1953         0\n",
       "4  Afghanistan  1954         0"
      ]
     },
     "execution_count": 11,
     "metadata": {},
     "output_type": "execute_result"
    }
   ],
   "source": [
    "data = df[columns_to_keep]\n",
    "data.head()"
   ]
  },
  {
   "cell_type": "code",
   "execution_count": 13,
   "id": "e2f20199",
   "metadata": {},
   "outputs": [
    {
     "data": {
      "text/plain": [
       "array(['0', '312', '375', '1875', '3375', '6625', '4562', '3750', '3125',\n",
       "       '3437', '5250', '5500', '4625', '5000', '3687', '5687', '6812',\n",
       "       '7625', '4437', '4062', '3812', '3562', '57', '9125', '39188',\n",
       "       '562', '2625', '500', '1500', '250', '2375', '2937', '125', '7562',\n",
       "       '1062', '437', '6', '.', '1000', '750', '1750', '2312', '1687',\n",
       "       '4750', '2187', '2750', '1250', '1562', '7', '1625', '2500', '3',\n",
       "       '6875', '2125', '9875', '5125', '12750', '6375', '3187', '1812',\n",
       "       '625', '3000', '22312', '17687', '5812', '13000', '8937', '7937',\n",
       "       '812', '3500', '1125', '937', '4000', '1437', '2437', '2062', '1',\n",
       "       '1187', '5375', '687', '3250', '4375', '5', '688', '438', '62',\n",
       "       '6188', '2688', '12', '4812', '1937', '875', '6312', '4875',\n",
       "       '4250', '3062', '3875', '4312', '4687', '6062', '18000', '9562',\n",
       "       '1375', '5187', '2562', '2875', '2250', '3312', '27312', '7500',\n",
       "       '5062', '1312', '2000', '3625', '5312', '4125', '8625', '3937',\n",
       "       '15125', '51625', '1495', '18437', '2687', '17188', '4187', '4937',\n",
       "       '8125', '6125', '6562', '11000', '5937', '14', '2188', '12875',\n",
       "       '2812', '72', '9812', '8938', '4500', '7187', '6187', '7437',\n",
       "       '8687', '12687', '14875', '5938', '6500', '16', '7750', '19',\n",
       "       '8250', '7875', '13875', '8500', '2', '5625', '6250', '14187',\n",
       "       '5875', '11312', '12125', '10812', '10875', '6687', '5438', '29',\n",
       "       '16500', '68', '9188', '7375', '11750', '8437', '10625', '215',\n",
       "       '2438', '7000', '9437', '13437', '8187', '7125', '11125', '13500',\n",
       "       '10187', '10312', '11875', '5562', '9312', '11812', '24', '10938',\n",
       "       '19500', '8562', '41', '3938', '13125', '9625', '13250', '7687',\n",
       "       '20', '9000', '11062', '85625', '9500', '8750', '8000', '3188',\n",
       "       '21', '26125', '15500', '28', '1438', '8', '9375', '15875',\n",
       "       '13687', '10062', '7438', '11375', '11', '21250', '9750', '1563',\n",
       "       '31000', '21688', '26187', '9062', '33', '15625', '66500', '7938',\n",
       "       '15', '8375', '5437', '6000', '7312', '4', '27', '18', '10437',\n",
       "       '5750', '1938', '4188', '7062', '6937', '17', '8438', '31', '171',\n",
       "       '10500', '52438', '87', '20000', '44', '10250', '29250', '11437',\n",
       "       '32', '14375', '21000', '20250', '104', '12937', '11500', '24812',\n",
       "       '186'], dtype=object)"
      ]
     },
     "execution_count": 13,
     "metadata": {},
     "output_type": "execute_result"
    }
   ],
   "source": [
    "data['domestic9'].unique()"
   ]
  },
  {
   "cell_type": "code",
   "execution_count": 15,
   "id": "43b25fb5",
   "metadata": {},
   "outputs": [
    {
     "data": {
      "text/html": [
       "<div>\n",
       "<style scoped>\n",
       "    .dataframe tbody tr th:only-of-type {\n",
       "        vertical-align: middle;\n",
       "    }\n",
       "\n",
       "    .dataframe tbody tr th {\n",
       "        vertical-align: top;\n",
       "    }\n",
       "\n",
       "    .dataframe thead th {\n",
       "        text-align: right;\n",
       "    }\n",
       "</style>\n",
       "<table border=\"1\" class=\"dataframe\">\n",
       "  <thead>\n",
       "    <tr style=\"text-align: right;\">\n",
       "      <th></th>\n",
       "      <th>Country</th>\n",
       "      <th>Year</th>\n",
       "      <th>PI</th>\n",
       "    </tr>\n",
       "  </thead>\n",
       "  <tbody>\n",
       "    <tr>\n",
       "      <th>0</th>\n",
       "      <td>Afghanistan</td>\n",
       "      <td>1950</td>\n",
       "      <td>0</td>\n",
       "    </tr>\n",
       "    <tr>\n",
       "      <th>1</th>\n",
       "      <td>Afghanistan</td>\n",
       "      <td>1951</td>\n",
       "      <td>0</td>\n",
       "    </tr>\n",
       "    <tr>\n",
       "      <th>2</th>\n",
       "      <td>Afghanistan</td>\n",
       "      <td>1952</td>\n",
       "      <td>0</td>\n",
       "    </tr>\n",
       "    <tr>\n",
       "      <th>3</th>\n",
       "      <td>Afghanistan</td>\n",
       "      <td>1953</td>\n",
       "      <td>0</td>\n",
       "    </tr>\n",
       "    <tr>\n",
       "      <th>4</th>\n",
       "      <td>Afghanistan</td>\n",
       "      <td>1954</td>\n",
       "      <td>0</td>\n",
       "    </tr>\n",
       "  </tbody>\n",
       "</table>\n",
       "</div>"
      ],
      "text/plain": [
       "       Country  Year PI\n",
       "0  Afghanistan  1950  0\n",
       "1  Afghanistan  1951  0\n",
       "2  Afghanistan  1952  0\n",
       "3  Afghanistan  1953  0\n",
       "4  Afghanistan  1954  0"
      ]
     },
     "execution_count": 15,
     "metadata": {},
     "output_type": "execute_result"
    }
   ],
   "source": [
    "data.columns = Column_names\n",
    "data.head()"
   ]
  },
  {
   "cell_type": "code",
   "execution_count": 16,
   "id": "de5e3121",
   "metadata": {},
   "outputs": [],
   "source": [
    "data.to_csv('Data/Clean/Political/PI.csv', index = False)"
   ]
  },
  {
   "cell_type": "code",
   "execution_count": null,
   "id": "d11370e0",
   "metadata": {},
   "outputs": [],
   "source": []
  }
 ],
 "metadata": {
  "kernelspec": {
   "display_name": "Python 3 (ipykernel)",
   "language": "python",
   "name": "python3"
  },
  "language_info": {
   "codemirror_mode": {
    "name": "ipython",
    "version": 3
   },
   "file_extension": ".py",
   "mimetype": "text/x-python",
   "name": "python",
   "nbconvert_exporter": "python",
   "pygments_lexer": "ipython3",
   "version": "3.10.9"
  }
 },
 "nbformat": 4,
 "nbformat_minor": 5
}
