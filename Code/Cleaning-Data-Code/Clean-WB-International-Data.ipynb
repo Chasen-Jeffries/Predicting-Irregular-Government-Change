{
 "cells": [
  {
   "cell_type": "code",
   "execution_count": 1,
   "id": "bb40625a",
   "metadata": {},
   "outputs": [],
   "source": [
    "import pandas as pd"
   ]
  },
  {
   "cell_type": "code",
   "execution_count": 2,
   "id": "d61b813c",
   "metadata": {},
   "outputs": [],
   "source": [
    "df = pd.read_csv('Data/Original/International/Aid.csv')"
   ]
  },
  {
   "cell_type": "code",
   "execution_count": 3,
   "id": "d02e7a53",
   "metadata": {
    "scrolled": false
   },
   "outputs": [
    {
     "data": {
      "text/html": [
       "<div>\n",
       "<style scoped>\n",
       "    .dataframe tbody tr th:only-of-type {\n",
       "        vertical-align: middle;\n",
       "    }\n",
       "\n",
       "    .dataframe tbody tr th {\n",
       "        vertical-align: top;\n",
       "    }\n",
       "\n",
       "    .dataframe thead th {\n",
       "        text-align: right;\n",
       "    }\n",
       "</style>\n",
       "<table border=\"1\" class=\"dataframe\">\n",
       "  <thead>\n",
       "    <tr style=\"text-align: right;\">\n",
       "      <th></th>\n",
       "      <th>Country Name</th>\n",
       "      <th>Country Code</th>\n",
       "      <th>Indicator Name</th>\n",
       "      <th>Indicator Code</th>\n",
       "      <th>1960</th>\n",
       "      <th>1961</th>\n",
       "      <th>1962</th>\n",
       "      <th>1963</th>\n",
       "      <th>1964</th>\n",
       "      <th>1965</th>\n",
       "      <th>...</th>\n",
       "      <th>2013</th>\n",
       "      <th>2014</th>\n",
       "      <th>2015</th>\n",
       "      <th>2016</th>\n",
       "      <th>2017</th>\n",
       "      <th>2018</th>\n",
       "      <th>2019</th>\n",
       "      <th>2020</th>\n",
       "      <th>2021</th>\n",
       "      <th>2022</th>\n",
       "    </tr>\n",
       "  </thead>\n",
       "  <tbody>\n",
       "    <tr>\n",
       "      <th>0</th>\n",
       "      <td>Aruba</td>\n",
       "      <td>ABW</td>\n",
       "      <td>Net ODA received (% of imports of goods, servi...</td>\n",
       "      <td>DT.ODA.ODAT.MP.ZS</td>\n",
       "      <td>NaN</td>\n",
       "      <td>NaN</td>\n",
       "      <td>NaN</td>\n",
       "      <td>NaN</td>\n",
       "      <td>NaN</td>\n",
       "      <td>NaN</td>\n",
       "      <td>...</td>\n",
       "      <td>NaN</td>\n",
       "      <td>NaN</td>\n",
       "      <td>NaN</td>\n",
       "      <td>NaN</td>\n",
       "      <td>NaN</td>\n",
       "      <td>NaN</td>\n",
       "      <td>NaN</td>\n",
       "      <td>NaN</td>\n",
       "      <td>NaN</td>\n",
       "      <td>NaN</td>\n",
       "    </tr>\n",
       "    <tr>\n",
       "      <th>1</th>\n",
       "      <td>Africa Eastern and Southern</td>\n",
       "      <td>AFE</td>\n",
       "      <td>Net ODA received (% of imports of goods, servi...</td>\n",
       "      <td>DT.ODA.ODAT.MP.ZS</td>\n",
       "      <td>NaN</td>\n",
       "      <td>NaN</td>\n",
       "      <td>NaN</td>\n",
       "      <td>NaN</td>\n",
       "      <td>NaN</td>\n",
       "      <td>NaN</td>\n",
       "      <td>...</td>\n",
       "      <td>7.786982</td>\n",
       "      <td>6.852727</td>\n",
       "      <td>7.816810</td>\n",
       "      <td>8.609252</td>\n",
       "      <td>8.727385</td>\n",
       "      <td>7.994589</td>\n",
       "      <td>9.122437</td>\n",
       "      <td>NaN</td>\n",
       "      <td>NaN</td>\n",
       "      <td>NaN</td>\n",
       "    </tr>\n",
       "    <tr>\n",
       "      <th>2</th>\n",
       "      <td>Afghanistan</td>\n",
       "      <td>AFG</td>\n",
       "      <td>Net ODA received (% of imports of goods, servi...</td>\n",
       "      <td>DT.ODA.ODAT.MP.ZS</td>\n",
       "      <td>NaN</td>\n",
       "      <td>NaN</td>\n",
       "      <td>NaN</td>\n",
       "      <td>NaN</td>\n",
       "      <td>NaN</td>\n",
       "      <td>NaN</td>\n",
       "      <td>...</td>\n",
       "      <td>50.592820</td>\n",
       "      <td>58.558313</td>\n",
       "      <td>49.878480</td>\n",
       "      <td>55.083237</td>\n",
       "      <td>47.601069</td>\n",
       "      <td>46.899961</td>\n",
       "      <td>55.779341</td>\n",
       "      <td>59.830455</td>\n",
       "      <td>NaN</td>\n",
       "      <td>NaN</td>\n",
       "    </tr>\n",
       "    <tr>\n",
       "      <th>3</th>\n",
       "      <td>Africa Western and Central</td>\n",
       "      <td>AFW</td>\n",
       "      <td>Net ODA received (% of imports of goods, servi...</td>\n",
       "      <td>DT.ODA.ODAT.MP.ZS</td>\n",
       "      <td>NaN</td>\n",
       "      <td>NaN</td>\n",
       "      <td>NaN</td>\n",
       "      <td>NaN</td>\n",
       "      <td>NaN</td>\n",
       "      <td>NaN</td>\n",
       "      <td>...</td>\n",
       "      <td>6.345759</td>\n",
       "      <td>6.515980</td>\n",
       "      <td>7.575451</td>\n",
       "      <td>8.760611</td>\n",
       "      <td>9.146098</td>\n",
       "      <td>7.752734</td>\n",
       "      <td>7.328166</td>\n",
       "      <td>NaN</td>\n",
       "      <td>NaN</td>\n",
       "      <td>NaN</td>\n",
       "    </tr>\n",
       "    <tr>\n",
       "      <th>4</th>\n",
       "      <td>Angola</td>\n",
       "      <td>AGO</td>\n",
       "      <td>Net ODA received (% of imports of goods, servi...</td>\n",
       "      <td>DT.ODA.ODAT.MP.ZS</td>\n",
       "      <td>NaN</td>\n",
       "      <td>NaN</td>\n",
       "      <td>NaN</td>\n",
       "      <td>NaN</td>\n",
       "      <td>NaN</td>\n",
       "      <td>NaN</td>\n",
       "      <td>...</td>\n",
       "      <td>0.475018</td>\n",
       "      <td>0.373437</td>\n",
       "      <td>0.862936</td>\n",
       "      <td>0.660442</td>\n",
       "      <td>0.620028</td>\n",
       "      <td>0.476272</td>\n",
       "      <td>0.068965</td>\n",
       "      <td>0.539027</td>\n",
       "      <td>0.927515</td>\n",
       "      <td>NaN</td>\n",
       "    </tr>\n",
       "  </tbody>\n",
       "</table>\n",
       "<p>5 rows × 67 columns</p>\n",
       "</div>"
      ],
      "text/plain": [
       "                  Country Name Country Code  \\\n",
       "0                        Aruba          ABW   \n",
       "1  Africa Eastern and Southern          AFE   \n",
       "2                  Afghanistan          AFG   \n",
       "3   Africa Western and Central          AFW   \n",
       "4                       Angola          AGO   \n",
       "\n",
       "                                      Indicator Name     Indicator Code  1960  \\\n",
       "0  Net ODA received (% of imports of goods, servi...  DT.ODA.ODAT.MP.ZS   NaN   \n",
       "1  Net ODA received (% of imports of goods, servi...  DT.ODA.ODAT.MP.ZS   NaN   \n",
       "2  Net ODA received (% of imports of goods, servi...  DT.ODA.ODAT.MP.ZS   NaN   \n",
       "3  Net ODA received (% of imports of goods, servi...  DT.ODA.ODAT.MP.ZS   NaN   \n",
       "4  Net ODA received (% of imports of goods, servi...  DT.ODA.ODAT.MP.ZS   NaN   \n",
       "\n",
       "   1961  1962  1963  1964  1965  ...       2013       2014       2015  \\\n",
       "0   NaN   NaN   NaN   NaN   NaN  ...        NaN        NaN        NaN   \n",
       "1   NaN   NaN   NaN   NaN   NaN  ...   7.786982   6.852727   7.816810   \n",
       "2   NaN   NaN   NaN   NaN   NaN  ...  50.592820  58.558313  49.878480   \n",
       "3   NaN   NaN   NaN   NaN   NaN  ...   6.345759   6.515980   7.575451   \n",
       "4   NaN   NaN   NaN   NaN   NaN  ...   0.475018   0.373437   0.862936   \n",
       "\n",
       "        2016       2017       2018       2019       2020      2021  2022  \n",
       "0        NaN        NaN        NaN        NaN        NaN       NaN   NaN  \n",
       "1   8.609252   8.727385   7.994589   9.122437        NaN       NaN   NaN  \n",
       "2  55.083237  47.601069  46.899961  55.779341  59.830455       NaN   NaN  \n",
       "3   8.760611   9.146098   7.752734   7.328166        NaN       NaN   NaN  \n",
       "4   0.660442   0.620028   0.476272   0.068965   0.539027  0.927515   NaN  \n",
       "\n",
       "[5 rows x 67 columns]"
      ]
     },
     "execution_count": 3,
     "metadata": {},
     "output_type": "execute_result"
    }
   ],
   "source": [
    "df.head()"
   ]
  },
  {
   "cell_type": "code",
   "execution_count": 4,
   "id": "f5e339aa",
   "metadata": {},
   "outputs": [],
   "source": [
    "# Updating Function\n",
    "def clean_wb(original_df):\n",
    "    # Columns to drop\n",
    "    columns_to_drop = ['Country Code', 'Indicator Name', 'Indicator Code']\n",
    "\n",
    "    # Drop specified columns\n",
    "    processed_df = original_df.drop(columns_to_drop, axis=1)\n",
    "    \n",
    "    # Rename 'Country Name' column to 'country'\n",
    "    processed_df.rename(columns={'Country Name': 'country'}, inplace=True)\n",
    "\n",
    "    # Transform to long format\n",
    "    clean_df = pd.melt(processed_df, id_vars='country', var_name='year', value_name='value')\n",
    "    \n",
    "    # Printing the head of the clean df\n",
    "    print(clean_df.head())\n",
    "\n",
    "    return clean_df\n"
   ]
  },
  {
   "cell_type": "code",
   "execution_count": 5,
   "id": "0766660b",
   "metadata": {},
   "outputs": [
    {
     "name": "stdout",
     "output_type": "stream",
     "text": [
      "                       country  year  value\n",
      "0                        Aruba  1960    NaN\n",
      "1  Africa Eastern and Southern  1960    NaN\n",
      "2                  Afghanistan  1960    NaN\n",
      "3   Africa Western and Central  1960    NaN\n",
      "4                       Angola  1960    NaN\n"
     ]
    }
   ],
   "source": [
    "Aid_Clean = clean_wb(df)"
   ]
  },
  {
   "cell_type": "code",
   "execution_count": 6,
   "id": "fd09d25e",
   "metadata": {},
   "outputs": [
    {
     "data": {
      "text/plain": [
       "array([        nan, 15.78110977, 13.04374222, ...,  7.18143316,\n",
       "        0.83640444, 11.37646888])"
      ]
     },
     "execution_count": 6,
     "metadata": {},
     "output_type": "execute_result"
    }
   ],
   "source": [
    "Aid_Clean['value'].unique()"
   ]
  },
  {
   "cell_type": "code",
   "execution_count": 7,
   "id": "dc8f9669",
   "metadata": {},
   "outputs": [],
   "source": [
    "# Columns to Keep\n",
    "column_names = ['Country','Year','Aid']"
   ]
  },
  {
   "cell_type": "code",
   "execution_count": 8,
   "id": "c6bcb57a",
   "metadata": {},
   "outputs": [
    {
     "data": {
      "text/html": [
       "<div>\n",
       "<style scoped>\n",
       "    .dataframe tbody tr th:only-of-type {\n",
       "        vertical-align: middle;\n",
       "    }\n",
       "\n",
       "    .dataframe tbody tr th {\n",
       "        vertical-align: top;\n",
       "    }\n",
       "\n",
       "    .dataframe thead th {\n",
       "        text-align: right;\n",
       "    }\n",
       "</style>\n",
       "<table border=\"1\" class=\"dataframe\">\n",
       "  <thead>\n",
       "    <tr style=\"text-align: right;\">\n",
       "      <th></th>\n",
       "      <th>Country</th>\n",
       "      <th>Year</th>\n",
       "      <th>Aid</th>\n",
       "    </tr>\n",
       "  </thead>\n",
       "  <tbody>\n",
       "    <tr>\n",
       "      <th>0</th>\n",
       "      <td>Aruba</td>\n",
       "      <td>1960</td>\n",
       "      <td>NaN</td>\n",
       "    </tr>\n",
       "    <tr>\n",
       "      <th>1</th>\n",
       "      <td>Africa Eastern and Southern</td>\n",
       "      <td>1960</td>\n",
       "      <td>NaN</td>\n",
       "    </tr>\n",
       "    <tr>\n",
       "      <th>2</th>\n",
       "      <td>Afghanistan</td>\n",
       "      <td>1960</td>\n",
       "      <td>NaN</td>\n",
       "    </tr>\n",
       "    <tr>\n",
       "      <th>3</th>\n",
       "      <td>Africa Western and Central</td>\n",
       "      <td>1960</td>\n",
       "      <td>NaN</td>\n",
       "    </tr>\n",
       "    <tr>\n",
       "      <th>4</th>\n",
       "      <td>Angola</td>\n",
       "      <td>1960</td>\n",
       "      <td>NaN</td>\n",
       "    </tr>\n",
       "  </tbody>\n",
       "</table>\n",
       "</div>"
      ],
      "text/plain": [
       "                       Country  Year  Aid\n",
       "0                        Aruba  1960  NaN\n",
       "1  Africa Eastern and Southern  1960  NaN\n",
       "2                  Afghanistan  1960  NaN\n",
       "3   Africa Western and Central  1960  NaN\n",
       "4                       Angola  1960  NaN"
      ]
     },
     "execution_count": 8,
     "metadata": {},
     "output_type": "execute_result"
    }
   ],
   "source": [
    "Aid_Clean.columns = column_names\n",
    "Aid_Clean.head()"
   ]
  },
  {
   "cell_type": "code",
   "execution_count": 9,
   "id": "82de6c6b",
   "metadata": {},
   "outputs": [],
   "source": [
    "Aid_Clean.to_csv('Data/Clean/International/Aid.csv', index = False)"
   ]
  },
  {
   "cell_type": "code",
   "execution_count": null,
   "id": "99a2539d",
   "metadata": {},
   "outputs": [],
   "source": [
    "# Clean Export Data"
   ]
  },
  {
   "cell_type": "code",
   "execution_count": 10,
   "id": "098e2905",
   "metadata": {},
   "outputs": [],
   "source": [
    "Exports = pd.read_csv('Data/Original/International/Exports.csv')"
   ]
  },
  {
   "cell_type": "code",
   "execution_count": 11,
   "id": "944074bf",
   "metadata": {},
   "outputs": [
    {
     "name": "stdout",
     "output_type": "stream",
     "text": [
      "                       country  year     value\n",
      "0                        Aruba  1960       NaN\n",
      "1  Africa Eastern and Southern  1960       NaN\n",
      "2                  Afghanistan  1960  4.132233\n",
      "3   Africa Western and Central  1960       NaN\n",
      "4                       Angola  1960       NaN\n"
     ]
    }
   ],
   "source": [
    "Exports_Clean = clean_wb(Exports)"
   ]
  },
  {
   "cell_type": "code",
   "execution_count": 13,
   "id": "dfb74625",
   "metadata": {},
   "outputs": [],
   "source": [
    "# Columns to Keep\n",
    "column_names = ['Country','Year','Exports']"
   ]
  },
  {
   "cell_type": "code",
   "execution_count": 14,
   "id": "001c9f80",
   "metadata": {},
   "outputs": [
    {
     "data": {
      "text/html": [
       "<div>\n",
       "<style scoped>\n",
       "    .dataframe tbody tr th:only-of-type {\n",
       "        vertical-align: middle;\n",
       "    }\n",
       "\n",
       "    .dataframe tbody tr th {\n",
       "        vertical-align: top;\n",
       "    }\n",
       "\n",
       "    .dataframe thead th {\n",
       "        text-align: right;\n",
       "    }\n",
       "</style>\n",
       "<table border=\"1\" class=\"dataframe\">\n",
       "  <thead>\n",
       "    <tr style=\"text-align: right;\">\n",
       "      <th></th>\n",
       "      <th>Country</th>\n",
       "      <th>Year</th>\n",
       "      <th>Exports</th>\n",
       "    </tr>\n",
       "  </thead>\n",
       "  <tbody>\n",
       "    <tr>\n",
       "      <th>0</th>\n",
       "      <td>Aruba</td>\n",
       "      <td>1960</td>\n",
       "      <td>NaN</td>\n",
       "    </tr>\n",
       "    <tr>\n",
       "      <th>1</th>\n",
       "      <td>Africa Eastern and Southern</td>\n",
       "      <td>1960</td>\n",
       "      <td>NaN</td>\n",
       "    </tr>\n",
       "    <tr>\n",
       "      <th>2</th>\n",
       "      <td>Afghanistan</td>\n",
       "      <td>1960</td>\n",
       "      <td>4.132233</td>\n",
       "    </tr>\n",
       "    <tr>\n",
       "      <th>3</th>\n",
       "      <td>Africa Western and Central</td>\n",
       "      <td>1960</td>\n",
       "      <td>NaN</td>\n",
       "    </tr>\n",
       "    <tr>\n",
       "      <th>4</th>\n",
       "      <td>Angola</td>\n",
       "      <td>1960</td>\n",
       "      <td>NaN</td>\n",
       "    </tr>\n",
       "  </tbody>\n",
       "</table>\n",
       "</div>"
      ],
      "text/plain": [
       "                       Country  Year   Exports\n",
       "0                        Aruba  1960       NaN\n",
       "1  Africa Eastern and Southern  1960       NaN\n",
       "2                  Afghanistan  1960  4.132233\n",
       "3   Africa Western and Central  1960       NaN\n",
       "4                       Angola  1960       NaN"
      ]
     },
     "execution_count": 14,
     "metadata": {},
     "output_type": "execute_result"
    }
   ],
   "source": [
    "Exports_Clean.columns = column_names\n",
    "Exports_Clean.head()"
   ]
  },
  {
   "cell_type": "code",
   "execution_count": 31,
   "id": "91a3bf62",
   "metadata": {},
   "outputs": [],
   "source": [
    "Exports_Clean.to_csv('Data/Clean/International/Exports.csv', index = False)"
   ]
  },
  {
   "cell_type": "code",
   "execution_count": 18,
   "id": "70e25352",
   "metadata": {},
   "outputs": [],
   "source": [
    "# Clean Import Data"
   ]
  },
  {
   "cell_type": "code",
   "execution_count": 19,
   "id": "c90e848a",
   "metadata": {},
   "outputs": [],
   "source": [
    "Imports = pd.read_csv('Data/Original/International/Imports.csv')"
   ]
  },
  {
   "cell_type": "code",
   "execution_count": 20,
   "id": "a7a15ea8",
   "metadata": {},
   "outputs": [
    {
     "name": "stdout",
     "output_type": "stream",
     "text": [
      "                       country  year     value\n",
      "0                        Aruba  1960       NaN\n",
      "1  Africa Eastern and Southern  1960       NaN\n",
      "2                  Afghanistan  1960  7.024793\n",
      "3   Africa Western and Central  1960       NaN\n",
      "4                       Angola  1960       NaN\n"
     ]
    }
   ],
   "source": [
    "Imports_Clean = clean_wb(Imports)"
   ]
  },
  {
   "cell_type": "code",
   "execution_count": 21,
   "id": "df12077f",
   "metadata": {},
   "outputs": [],
   "source": [
    "# Columns to Keep\n",
    "column_names = ['Country','Year','Imports']"
   ]
  },
  {
   "cell_type": "code",
   "execution_count": 22,
   "id": "0c8ca82b",
   "metadata": {},
   "outputs": [
    {
     "data": {
      "text/html": [
       "<div>\n",
       "<style scoped>\n",
       "    .dataframe tbody tr th:only-of-type {\n",
       "        vertical-align: middle;\n",
       "    }\n",
       "\n",
       "    .dataframe tbody tr th {\n",
       "        vertical-align: top;\n",
       "    }\n",
       "\n",
       "    .dataframe thead th {\n",
       "        text-align: right;\n",
       "    }\n",
       "</style>\n",
       "<table border=\"1\" class=\"dataframe\">\n",
       "  <thead>\n",
       "    <tr style=\"text-align: right;\">\n",
       "      <th></th>\n",
       "      <th>Country</th>\n",
       "      <th>Year</th>\n",
       "      <th>Imports</th>\n",
       "    </tr>\n",
       "  </thead>\n",
       "  <tbody>\n",
       "    <tr>\n",
       "      <th>0</th>\n",
       "      <td>Aruba</td>\n",
       "      <td>1960</td>\n",
       "      <td>NaN</td>\n",
       "    </tr>\n",
       "    <tr>\n",
       "      <th>1</th>\n",
       "      <td>Africa Eastern and Southern</td>\n",
       "      <td>1960</td>\n",
       "      <td>NaN</td>\n",
       "    </tr>\n",
       "    <tr>\n",
       "      <th>2</th>\n",
       "      <td>Afghanistan</td>\n",
       "      <td>1960</td>\n",
       "      <td>7.024793</td>\n",
       "    </tr>\n",
       "    <tr>\n",
       "      <th>3</th>\n",
       "      <td>Africa Western and Central</td>\n",
       "      <td>1960</td>\n",
       "      <td>NaN</td>\n",
       "    </tr>\n",
       "    <tr>\n",
       "      <th>4</th>\n",
       "      <td>Angola</td>\n",
       "      <td>1960</td>\n",
       "      <td>NaN</td>\n",
       "    </tr>\n",
       "  </tbody>\n",
       "</table>\n",
       "</div>"
      ],
      "text/plain": [
       "                       Country  Year   Imports\n",
       "0                        Aruba  1960       NaN\n",
       "1  Africa Eastern and Southern  1960       NaN\n",
       "2                  Afghanistan  1960  7.024793\n",
       "3   Africa Western and Central  1960       NaN\n",
       "4                       Angola  1960       NaN"
      ]
     },
     "execution_count": 22,
     "metadata": {},
     "output_type": "execute_result"
    }
   ],
   "source": [
    "Imports_Clean.columns = column_names\n",
    "Imports_Clean.head()"
   ]
  },
  {
   "cell_type": "code",
   "execution_count": 23,
   "id": "618591bd",
   "metadata": {},
   "outputs": [],
   "source": [
    "Imports_Clean.to_csv('Data/Clean/International/Imports.csv', index = False)"
   ]
  },
  {
   "cell_type": "code",
   "execution_count": 24,
   "id": "fd3d9003",
   "metadata": {},
   "outputs": [],
   "source": [
    "# Clean FDI Inflows"
   ]
  },
  {
   "cell_type": "code",
   "execution_count": 25,
   "id": "410f3234",
   "metadata": {},
   "outputs": [],
   "source": [
    "FDI = pd.read_csv('Data/Original/International/FDI-inflow.csv')"
   ]
  },
  {
   "cell_type": "code",
   "execution_count": 26,
   "id": "83a8bad1",
   "metadata": {},
   "outputs": [
    {
     "name": "stdout",
     "output_type": "stream",
     "text": [
      "                       country  year  value\n",
      "0                        Aruba  1960    NaN\n",
      "1  Africa Eastern and Southern  1960    NaN\n",
      "2                  Afghanistan  1960    NaN\n",
      "3   Africa Western and Central  1960    NaN\n",
      "4                       Angola  1960    NaN\n"
     ]
    }
   ],
   "source": [
    "FDI_Clean = clean_wb(FDI)"
   ]
  },
  {
   "cell_type": "code",
   "execution_count": 27,
   "id": "fcf495f6",
   "metadata": {},
   "outputs": [],
   "source": [
    "# Columns to Keep\n",
    "column_names = ['Country','Year','FDI']"
   ]
  },
  {
   "cell_type": "code",
   "execution_count": 28,
   "id": "ec89a000",
   "metadata": {},
   "outputs": [
    {
     "data": {
      "text/html": [
       "<div>\n",
       "<style scoped>\n",
       "    .dataframe tbody tr th:only-of-type {\n",
       "        vertical-align: middle;\n",
       "    }\n",
       "\n",
       "    .dataframe tbody tr th {\n",
       "        vertical-align: top;\n",
       "    }\n",
       "\n",
       "    .dataframe thead th {\n",
       "        text-align: right;\n",
       "    }\n",
       "</style>\n",
       "<table border=\"1\" class=\"dataframe\">\n",
       "  <thead>\n",
       "    <tr style=\"text-align: right;\">\n",
       "      <th></th>\n",
       "      <th>Country</th>\n",
       "      <th>Year</th>\n",
       "      <th>FDI</th>\n",
       "    </tr>\n",
       "  </thead>\n",
       "  <tbody>\n",
       "    <tr>\n",
       "      <th>0</th>\n",
       "      <td>Aruba</td>\n",
       "      <td>1960</td>\n",
       "      <td>NaN</td>\n",
       "    </tr>\n",
       "    <tr>\n",
       "      <th>1</th>\n",
       "      <td>Africa Eastern and Southern</td>\n",
       "      <td>1960</td>\n",
       "      <td>NaN</td>\n",
       "    </tr>\n",
       "    <tr>\n",
       "      <th>2</th>\n",
       "      <td>Afghanistan</td>\n",
       "      <td>1960</td>\n",
       "      <td>NaN</td>\n",
       "    </tr>\n",
       "    <tr>\n",
       "      <th>3</th>\n",
       "      <td>Africa Western and Central</td>\n",
       "      <td>1960</td>\n",
       "      <td>NaN</td>\n",
       "    </tr>\n",
       "    <tr>\n",
       "      <th>4</th>\n",
       "      <td>Angola</td>\n",
       "      <td>1960</td>\n",
       "      <td>NaN</td>\n",
       "    </tr>\n",
       "  </tbody>\n",
       "</table>\n",
       "</div>"
      ],
      "text/plain": [
       "                       Country  Year  FDI\n",
       "0                        Aruba  1960  NaN\n",
       "1  Africa Eastern and Southern  1960  NaN\n",
       "2                  Afghanistan  1960  NaN\n",
       "3   Africa Western and Central  1960  NaN\n",
       "4                       Angola  1960  NaN"
      ]
     },
     "execution_count": 28,
     "metadata": {},
     "output_type": "execute_result"
    }
   ],
   "source": [
    "FDI_Clean.columns = column_names\n",
    "FDI_Clean.head()"
   ]
  },
  {
   "cell_type": "code",
   "execution_count": 30,
   "id": "f9faf07f",
   "metadata": {},
   "outputs": [],
   "source": [
    "FDI_Clean.to_csv('Data/Clean/International/FDI.csv', index = False)"
   ]
  }
 ],
 "metadata": {
  "kernelspec": {
   "display_name": "Python 3 (ipykernel)",
   "language": "python",
   "name": "python3"
  },
  "language_info": {
   "codemirror_mode": {
    "name": "ipython",
    "version": 3
   },
   "file_extension": ".py",
   "mimetype": "text/x-python",
   "name": "python",
   "nbconvert_exporter": "python",
   "pygments_lexer": "ipython3",
   "version": "3.10.9"
  }
 },
 "nbformat": 4,
 "nbformat_minor": 5
}
