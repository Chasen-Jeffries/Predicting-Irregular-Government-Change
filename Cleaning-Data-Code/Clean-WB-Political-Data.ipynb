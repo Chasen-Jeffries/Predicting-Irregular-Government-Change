{
 "cells": [
  {
   "cell_type": "code",
   "execution_count": 5,
   "id": "ef2b7161",
   "metadata": {},
   "outputs": [],
   "source": [
    "import pandas as pd"
   ]
  },
  {
   "cell_type": "code",
   "execution_count": 6,
   "id": "b0565add",
   "metadata": {},
   "outputs": [],
   "source": [
    "# Updating Function\n",
    "def clean_wb(original_df):\n",
    "    # Columns to drop\n",
    "    columns_to_drop = ['Country Code', 'Indicator Name', 'Indicator Code']\n",
    "\n",
    "    # Drop specified columns\n",
    "    processed_df = original_df.drop(columns_to_drop, axis=1)\n",
    "    \n",
    "    # Rename 'Country Name' column to 'country'\n",
    "    processed_df.rename(columns={'Country Name': 'country'}, inplace=True)\n",
    "\n",
    "    # Transform to long format\n",
    "    clean_df = pd.melt(processed_df, id_vars='country', var_name='year', value_name='value')\n",
    "    \n",
    "    # Printing the head of the clean df\n",
    "    print(clean_df.head())\n",
    "\n",
    "    return clean_df\n"
   ]
  },
  {
   "cell_type": "code",
   "execution_count": 14,
   "id": "91ad97fb",
   "metadata": {},
   "outputs": [],
   "source": [
    "# Fertility Rate"
   ]
  },
  {
   "cell_type": "code",
   "execution_count": 15,
   "id": "c00f1f9f",
   "metadata": {},
   "outputs": [],
   "source": [
    "Fertility = pd.read_csv('Data/Original/Political/Fertility-Rate.csv')"
   ]
  },
  {
   "cell_type": "code",
   "execution_count": 16,
   "id": "b2cbbb5f",
   "metadata": {},
   "outputs": [
    {
     "name": "stdout",
     "output_type": "stream",
     "text": [
      "                       country  year     value\n",
      "0                        Aruba  1960  4.820000\n",
      "1  Africa Eastern and Southern  1960  6.724125\n",
      "2                  Afghanistan  1960  7.282000\n",
      "3   Africa Western and Central  1960  6.458448\n",
      "4                       Angola  1960  6.708000\n"
     ]
    }
   ],
   "source": [
    "Fertility_Clean = clean_wb(Fertility)"
   ]
  },
  {
   "cell_type": "code",
   "execution_count": 17,
   "id": "03ade82b",
   "metadata": {
    "scrolled": false
   },
   "outputs": [],
   "source": [
    "Fertility_Clean.to_csv('Data/Clean/Political/Fertility-Rate.csv', index = False)"
   ]
  },
  {
   "cell_type": "code",
   "execution_count": 18,
   "id": "55f98863",
   "metadata": {},
   "outputs": [],
   "source": [
    "# Urbanization Rate"
   ]
  },
  {
   "cell_type": "code",
   "execution_count": 19,
   "id": "ad9be3d4",
   "metadata": {},
   "outputs": [],
   "source": [
    "Urbanization = pd.read_csv('Data/Original/Political/Urbanization-Rate.csv')"
   ]
  },
  {
   "cell_type": "code",
   "execution_count": 20,
   "id": "50351d1c",
   "metadata": {},
   "outputs": [
    {
     "name": "stdout",
     "output_type": "stream",
     "text": [
      "                       country  year      value\n",
      "0                        Aruba  1960  50.776000\n",
      "1  Africa Eastern and Southern  1960  14.563810\n",
      "2                  Afghanistan  1960   8.401000\n",
      "3   Africa Western and Central  1960  14.705391\n",
      "4                       Angola  1960  10.435000\n"
     ]
    }
   ],
   "source": [
    "Urbanization_Clean = clean_wb(Urbanization)"
   ]
  },
  {
   "cell_type": "code",
   "execution_count": 21,
   "id": "06033931",
   "metadata": {},
   "outputs": [],
   "source": [
    "Urbanization_Clean.to_csv('Data/Clean/Political/Urbanization-Rate.csv', index = False)"
   ]
  },
  {
   "cell_type": "code",
   "execution_count": null,
   "id": "fbe91f85",
   "metadata": {},
   "outputs": [],
   "source": []
  }
 ],
 "metadata": {
  "kernelspec": {
   "display_name": "Python 3 (ipykernel)",
   "language": "python",
   "name": "python3"
  },
  "language_info": {
   "codemirror_mode": {
    "name": "ipython",
    "version": 3
   },
   "file_extension": ".py",
   "mimetype": "text/x-python",
   "name": "python",
   "nbconvert_exporter": "python",
   "pygments_lexer": "ipython3",
   "version": "3.10.9"
  }
 },
 "nbformat": 4,
 "nbformat_minor": 5
}
