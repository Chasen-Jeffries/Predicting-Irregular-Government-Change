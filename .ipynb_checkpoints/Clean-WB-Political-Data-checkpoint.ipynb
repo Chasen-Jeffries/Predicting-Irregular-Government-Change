{
 "cells": [
  {
   "cell_type": "code",
   "execution_count": null,
   "id": "7b73877a",
   "metadata": {},
   "outputs": [],
   "source": [
    "# Updating Function\n",
    "def clean_wb(original_df):\n",
    "    # Columns to drop\n",
    "    columns_to_drop = ['Country Code', 'Indicator Name', 'Indicator Code']\n",
    "\n",
    "    # Drop specified columns\n",
    "    processed_df = original_df.drop(columns_to_drop, axis=1)\n",
    "    \n",
    "    # Rename 'Country Name' column to 'country'\n",
    "    processed_df.rename(columns={'Country Name': 'country'}, inplace=True)\n",
    "\n",
    "    # Transform to long format\n",
    "    clean_df = pd.melt(processed_df, id_vars='country', var_name='year', value_name='value')\n",
    "    \n",
    "    # Printing the head of the clean df\n",
    "    print(clean_df.head())\n",
    "\n",
    "    return clean_df\n"
   ]
  }
 ],
 "metadata": {
  "kernelspec": {
   "display_name": "Python 3 (ipykernel)",
   "language": "python",
   "name": "python3"
  },
  "language_info": {
   "codemirror_mode": {
    "name": "ipython",
    "version": 3
   },
   "file_extension": ".py",
   "mimetype": "text/x-python",
   "name": "python",
   "nbconvert_exporter": "python",
   "pygments_lexer": "ipython3",
   "version": "3.10.9"
  }
 },
 "nbformat": 4,
 "nbformat_minor": 5
}
