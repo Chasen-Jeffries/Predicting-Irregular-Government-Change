{
 "cells": [
  {
   "cell_type": "code",
   "execution_count": 26,
   "id": "bf287ea0",
   "metadata": {},
   "outputs": [],
   "source": [
    "import pandas as pd\n",
    "import numpy as np"
   ]
  },
  {
   "cell_type": "code",
   "execution_count": 8,
   "id": "c9383304",
   "metadata": {},
   "outputs": [],
   "source": [
    "df = pd.read_csv('Data/Original/Political/Polity-Regime-Change.csv', encoding='latin1')"
   ]
  },
  {
   "cell_type": "code",
   "execution_count": 14,
   "id": "5bdb00b4",
   "metadata": {},
   "outputs": [],
   "source": [
    "columns_to_keep = ['COUNTRY', 'YEAR', 'POLITYX']"
   ]
  },
  {
   "cell_type": "code",
   "execution_count": 15,
   "id": "65b64218",
   "metadata": {},
   "outputs": [],
   "source": [
    "column_names = ['Country', 'Year', 'RC']"
   ]
  },
  {
   "cell_type": "code",
   "execution_count": 16,
   "id": "ca73e8be",
   "metadata": {},
   "outputs": [
    {
     "data": {
      "text/html": [
       "<div>\n",
       "<style scoped>\n",
       "    .dataframe tbody tr th:only-of-type {\n",
       "        vertical-align: middle;\n",
       "    }\n",
       "\n",
       "    .dataframe tbody tr th {\n",
       "        vertical-align: top;\n",
       "    }\n",
       "\n",
       "    .dataframe thead th {\n",
       "        text-align: right;\n",
       "    }\n",
       "</style>\n",
       "<table border=\"1\" class=\"dataframe\">\n",
       "  <thead>\n",
       "    <tr style=\"text-align: right;\">\n",
       "      <th></th>\n",
       "      <th>COUNTRY</th>\n",
       "      <th>SCODE</th>\n",
       "      <th>CCODE</th>\n",
       "      <th>YEAR</th>\n",
       "      <th>MOBEGIN</th>\n",
       "      <th>YRBEGIN</th>\n",
       "      <th>MOEND</th>\n",
       "      <th>YREND</th>\n",
       "      <th>PTYPE</th>\n",
       "      <th>MAGFAIL</th>\n",
       "      <th>MAGCOL</th>\n",
       "      <th>MAGVIOL</th>\n",
       "      <th>MAGAVE</th>\n",
       "      <th>DESC</th>\n",
       "      <th>POLITYX</th>\n",
       "      <th>DESC2</th>\n",
       "    </tr>\n",
       "  </thead>\n",
       "  <tbody>\n",
       "    <tr>\n",
       "      <th>0</th>\n",
       "      <td>Afghanistan</td>\n",
       "      <td>AFG</td>\n",
       "      <td>700</td>\n",
       "      <td>1978</td>\n",
       "      <td>4</td>\n",
       "      <td>1978</td>\n",
       "      <td>12</td>\n",
       "      <td>1979</td>\n",
       "      <td>3</td>\n",
       "      <td>2</td>\n",
       "      <td>1</td>\n",
       "      <td>4</td>\n",
       "      <td>2.5</td>\n",
       "      <td>In the wake of unrest stemming from the assass...</td>\n",
       "      <td>REV</td>\n",
       "      <td>1.0</td>\n",
       "    </tr>\n",
       "    <tr>\n",
       "      <th>1</th>\n",
       "      <td>Afghanistan</td>\n",
       "      <td>AFG</td>\n",
       "      <td>700</td>\n",
       "      <td>1979</td>\n",
       "      <td>4</td>\n",
       "      <td>1978</td>\n",
       "      <td>12</td>\n",
       "      <td>1979</td>\n",
       "      <td>3</td>\n",
       "      <td>2</td>\n",
       "      <td>1</td>\n",
       "      <td>4</td>\n",
       "      <td>2.5</td>\n",
       "      <td>NaN</td>\n",
       "      <td>NaN</td>\n",
       "      <td>NaN</td>\n",
       "    </tr>\n",
       "    <tr>\n",
       "      <th>2</th>\n",
       "      <td>Afghanistan</td>\n",
       "      <td>AFG</td>\n",
       "      <td>700</td>\n",
       "      <td>1992</td>\n",
       "      <td>4</td>\n",
       "      <td>1992</td>\n",
       "      <td>9</td>\n",
       "      <td>1996</td>\n",
       "      <td>3</td>\n",
       "      <td>4</td>\n",
       "      <td>1</td>\n",
       "      <td>4</td>\n",
       "      <td>3.0</td>\n",
       "      <td>Soviet-supported Najibullah regime falls after...</td>\n",
       "      <td>REV</td>\n",
       "      <td>1.0</td>\n",
       "    </tr>\n",
       "    <tr>\n",
       "      <th>3</th>\n",
       "      <td>Afghanistan</td>\n",
       "      <td>AFG</td>\n",
       "      <td>700</td>\n",
       "      <td>1993</td>\n",
       "      <td>4</td>\n",
       "      <td>1992</td>\n",
       "      <td>9</td>\n",
       "      <td>1996</td>\n",
       "      <td>3</td>\n",
       "      <td>4</td>\n",
       "      <td>1</td>\n",
       "      <td>4</td>\n",
       "      <td>3.0</td>\n",
       "      <td>NaN</td>\n",
       "      <td>NaN</td>\n",
       "      <td>NaN</td>\n",
       "    </tr>\n",
       "    <tr>\n",
       "      <th>4</th>\n",
       "      <td>Afghanistan</td>\n",
       "      <td>AFG</td>\n",
       "      <td>700</td>\n",
       "      <td>1994</td>\n",
       "      <td>4</td>\n",
       "      <td>1992</td>\n",
       "      <td>9</td>\n",
       "      <td>1996</td>\n",
       "      <td>3</td>\n",
       "      <td>4</td>\n",
       "      <td>1</td>\n",
       "      <td>4</td>\n",
       "      <td>3.0</td>\n",
       "      <td>NaN</td>\n",
       "      <td>NaN</td>\n",
       "      <td>NaN</td>\n",
       "    </tr>\n",
       "  </tbody>\n",
       "</table>\n",
       "</div>"
      ],
      "text/plain": [
       "       COUNTRY SCODE  CCODE  YEAR  MOBEGIN  YRBEGIN  MOEND  YREND  PTYPE  \\\n",
       "0  Afghanistan   AFG    700  1978        4     1978     12   1979      3   \n",
       "1  Afghanistan   AFG    700  1979        4     1978     12   1979      3   \n",
       "2  Afghanistan   AFG    700  1992        4     1992      9   1996      3   \n",
       "3  Afghanistan   AFG    700  1993        4     1992      9   1996      3   \n",
       "4  Afghanistan   AFG    700  1994        4     1992      9   1996      3   \n",
       "\n",
       "   MAGFAIL  MAGCOL  MAGVIOL  MAGAVE  \\\n",
       "0        2       1        4     2.5   \n",
       "1        2       1        4     2.5   \n",
       "2        4       1        4     3.0   \n",
       "3        4       1        4     3.0   \n",
       "4        4       1        4     3.0   \n",
       "\n",
       "                                                DESC POLITYX  DESC2  \n",
       "0  In the wake of unrest stemming from the assass...     REV    1.0  \n",
       "1                                                NaN     NaN    NaN  \n",
       "2  Soviet-supported Najibullah regime falls after...     REV    1.0  \n",
       "3                                                NaN     NaN    NaN  \n",
       "4                                                NaN     NaN    NaN  "
      ]
     },
     "execution_count": 16,
     "metadata": {},
     "output_type": "execute_result"
    }
   ],
   "source": [
    "df.head()"
   ]
  },
  {
   "cell_type": "code",
   "execution_count": 17,
   "id": "ff7cef44",
   "metadata": {},
   "outputs": [
    {
     "data": {
      "text/plain": [
       "array(['REV', nan, 'SF', '-5', '-8', '-15', '-12', '-7', '-9', '-14',\n",
       "       '-6', '-13', '-11', 'DIS', '-10', '-18', '-16'], dtype=object)"
      ]
     },
     "execution_count": 17,
     "metadata": {},
     "output_type": "execute_result"
    }
   ],
   "source": [
    "df['POLITYX'].unique()"
   ]
  },
  {
   "cell_type": "code",
   "execution_count": 18,
   "id": "d86206bb",
   "metadata": {},
   "outputs": [
    {
     "data": {
      "text/html": [
       "<div>\n",
       "<style scoped>\n",
       "    .dataframe tbody tr th:only-of-type {\n",
       "        vertical-align: middle;\n",
       "    }\n",
       "\n",
       "    .dataframe tbody tr th {\n",
       "        vertical-align: top;\n",
       "    }\n",
       "\n",
       "    .dataframe thead th {\n",
       "        text-align: right;\n",
       "    }\n",
       "</style>\n",
       "<table border=\"1\" class=\"dataframe\">\n",
       "  <thead>\n",
       "    <tr style=\"text-align: right;\">\n",
       "      <th></th>\n",
       "      <th>COUNTRY</th>\n",
       "      <th>YEAR</th>\n",
       "      <th>POLITYX</th>\n",
       "    </tr>\n",
       "  </thead>\n",
       "  <tbody>\n",
       "    <tr>\n",
       "      <th>0</th>\n",
       "      <td>Afghanistan</td>\n",
       "      <td>1978</td>\n",
       "      <td>REV</td>\n",
       "    </tr>\n",
       "    <tr>\n",
       "      <th>1</th>\n",
       "      <td>Afghanistan</td>\n",
       "      <td>1979</td>\n",
       "      <td>NaN</td>\n",
       "    </tr>\n",
       "    <tr>\n",
       "      <th>2</th>\n",
       "      <td>Afghanistan</td>\n",
       "      <td>1992</td>\n",
       "      <td>REV</td>\n",
       "    </tr>\n",
       "    <tr>\n",
       "      <th>3</th>\n",
       "      <td>Afghanistan</td>\n",
       "      <td>1993</td>\n",
       "      <td>NaN</td>\n",
       "    </tr>\n",
       "    <tr>\n",
       "      <th>4</th>\n",
       "      <td>Afghanistan</td>\n",
       "      <td>1994</td>\n",
       "      <td>NaN</td>\n",
       "    </tr>\n",
       "  </tbody>\n",
       "</table>\n",
       "</div>"
      ],
      "text/plain": [
       "       COUNTRY  YEAR POLITYX\n",
       "0  Afghanistan  1978     REV\n",
       "1  Afghanistan  1979     NaN\n",
       "2  Afghanistan  1992     REV\n",
       "3  Afghanistan  1993     NaN\n",
       "4  Afghanistan  1994     NaN"
      ]
     },
     "execution_count": 18,
     "metadata": {},
     "output_type": "execute_result"
    }
   ],
   "source": [
    "data = df[columns_to_keep]\n",
    "data.head()"
   ]
  },
  {
   "cell_type": "code",
   "execution_count": 19,
   "id": "1e9047ab",
   "metadata": {
    "scrolled": true
   },
   "outputs": [
    {
     "data": {
      "text/html": [
       "<div>\n",
       "<style scoped>\n",
       "    .dataframe tbody tr th:only-of-type {\n",
       "        vertical-align: middle;\n",
       "    }\n",
       "\n",
       "    .dataframe tbody tr th {\n",
       "        vertical-align: top;\n",
       "    }\n",
       "\n",
       "    .dataframe thead th {\n",
       "        text-align: right;\n",
       "    }\n",
       "</style>\n",
       "<table border=\"1\" class=\"dataframe\">\n",
       "  <thead>\n",
       "    <tr style=\"text-align: right;\">\n",
       "      <th></th>\n",
       "      <th>Country</th>\n",
       "      <th>Year</th>\n",
       "      <th>RC</th>\n",
       "    </tr>\n",
       "  </thead>\n",
       "  <tbody>\n",
       "    <tr>\n",
       "      <th>0</th>\n",
       "      <td>Afghanistan</td>\n",
       "      <td>1978</td>\n",
       "      <td>REV</td>\n",
       "    </tr>\n",
       "    <tr>\n",
       "      <th>1</th>\n",
       "      <td>Afghanistan</td>\n",
       "      <td>1979</td>\n",
       "      <td>NaN</td>\n",
       "    </tr>\n",
       "    <tr>\n",
       "      <th>2</th>\n",
       "      <td>Afghanistan</td>\n",
       "      <td>1992</td>\n",
       "      <td>REV</td>\n",
       "    </tr>\n",
       "    <tr>\n",
       "      <th>3</th>\n",
       "      <td>Afghanistan</td>\n",
       "      <td>1993</td>\n",
       "      <td>NaN</td>\n",
       "    </tr>\n",
       "    <tr>\n",
       "      <th>4</th>\n",
       "      <td>Afghanistan</td>\n",
       "      <td>1994</td>\n",
       "      <td>NaN</td>\n",
       "    </tr>\n",
       "  </tbody>\n",
       "</table>\n",
       "</div>"
      ],
      "text/plain": [
       "       Country  Year   RC\n",
       "0  Afghanistan  1978  REV\n",
       "1  Afghanistan  1979  NaN\n",
       "2  Afghanistan  1992  REV\n",
       "3  Afghanistan  1993  NaN\n",
       "4  Afghanistan  1994  NaN"
      ]
     },
     "execution_count": 19,
     "metadata": {},
     "output_type": "execute_result"
    }
   ],
   "source": [
    "data.columns = column_names\n",
    "data.head()"
   ]
  },
  {
   "cell_type": "code",
   "execution_count": 27,
   "id": "77d0f187",
   "metadata": {},
   "outputs": [],
   "source": [
    "# Update Values to create binary output\n",
    "# The transformation function\n",
    "def transform_value(value):\n",
    "    if pd.isna(value):\n",
    "        return np.nan\n",
    "    elif value in ['REV', 'SF', 'DIS']:\n",
    "        return 1\n",
    "    else:\n",
    "        return 0"
   ]
  },
  {
   "cell_type": "code",
   "execution_count": 28,
   "id": "432e8dd4",
   "metadata": {},
   "outputs": [
    {
     "name": "stderr",
     "output_type": "stream",
     "text": [
      "C:\\Users\\Chase\\AppData\\Local\\Temp\\ipykernel_12900\\2430398250.py:2: SettingWithCopyWarning: \n",
      "A value is trying to be set on a copy of a slice from a DataFrame.\n",
      "Try using .loc[row_indexer,col_indexer] = value instead\n",
      "\n",
      "See the caveats in the documentation: https://pandas.pydata.org/pandas-docs/stable/user_guide/indexing.html#returning-a-view-versus-a-copy\n",
      "  data['RC'] = data['RC'].apply(transform_value)\n"
     ]
    }
   ],
   "source": [
    "# Apply the function to the specific column\n",
    "data['RC'] = data['RC'].apply(transform_value)"
   ]
  },
  {
   "cell_type": "code",
   "execution_count": 30,
   "id": "8e522f63",
   "metadata": {},
   "outputs": [
    {
     "data": {
      "text/plain": [
       "array([ 1., nan,  0.])"
      ]
     },
     "execution_count": 30,
     "metadata": {},
     "output_type": "execute_result"
    }
   ],
   "source": [
    "data['RC'].unique()"
   ]
  },
  {
   "cell_type": "code",
   "execution_count": 31,
   "id": "db5075ea",
   "metadata": {},
   "outputs": [
    {
     "data": {
      "text/html": [
       "<div>\n",
       "<style scoped>\n",
       "    .dataframe tbody tr th:only-of-type {\n",
       "        vertical-align: middle;\n",
       "    }\n",
       "\n",
       "    .dataframe tbody tr th {\n",
       "        vertical-align: top;\n",
       "    }\n",
       "\n",
       "    .dataframe thead th {\n",
       "        text-align: right;\n",
       "    }\n",
       "</style>\n",
       "<table border=\"1\" class=\"dataframe\">\n",
       "  <thead>\n",
       "    <tr style=\"text-align: right;\">\n",
       "      <th></th>\n",
       "      <th>Country</th>\n",
       "      <th>Year</th>\n",
       "      <th>RC</th>\n",
       "    </tr>\n",
       "  </thead>\n",
       "  <tbody>\n",
       "    <tr>\n",
       "      <th>0</th>\n",
       "      <td>Afghanistan</td>\n",
       "      <td>1978</td>\n",
       "      <td>1.0</td>\n",
       "    </tr>\n",
       "    <tr>\n",
       "      <th>1</th>\n",
       "      <td>Afghanistan</td>\n",
       "      <td>1979</td>\n",
       "      <td>NaN</td>\n",
       "    </tr>\n",
       "    <tr>\n",
       "      <th>2</th>\n",
       "      <td>Afghanistan</td>\n",
       "      <td>1992</td>\n",
       "      <td>1.0</td>\n",
       "    </tr>\n",
       "    <tr>\n",
       "      <th>3</th>\n",
       "      <td>Afghanistan</td>\n",
       "      <td>1993</td>\n",
       "      <td>NaN</td>\n",
       "    </tr>\n",
       "    <tr>\n",
       "      <th>4</th>\n",
       "      <td>Afghanistan</td>\n",
       "      <td>1994</td>\n",
       "      <td>NaN</td>\n",
       "    </tr>\n",
       "  </tbody>\n",
       "</table>\n",
       "</div>"
      ],
      "text/plain": [
       "       Country  Year   RC\n",
       "0  Afghanistan  1978  1.0\n",
       "1  Afghanistan  1979  NaN\n",
       "2  Afghanistan  1992  1.0\n",
       "3  Afghanistan  1993  NaN\n",
       "4  Afghanistan  1994  NaN"
      ]
     },
     "execution_count": 31,
     "metadata": {},
     "output_type": "execute_result"
    }
   ],
   "source": [
    "data.head()"
   ]
  }
 ],
 "metadata": {
  "kernelspec": {
   "display_name": "Python 3 (ipykernel)",
   "language": "python",
   "name": "python3"
  },
  "language_info": {
   "codemirror_mode": {
    "name": "ipython",
    "version": 3
   },
   "file_extension": ".py",
   "mimetype": "text/x-python",
   "name": "python",
   "nbconvert_exporter": "python",
   "pygments_lexer": "ipython3",
   "version": "3.10.9"
  }
 },
 "nbformat": 4,
 "nbformat_minor": 5
}
