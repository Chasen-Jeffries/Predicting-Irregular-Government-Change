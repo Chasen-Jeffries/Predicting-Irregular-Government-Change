{
 "cells": [
  {
   "cell_type": "code",
   "execution_count": 7,
   "id": "8a690ee5",
   "metadata": {},
   "outputs": [],
   "source": [
    "import pandas as pd"
   ]
  },
  {
   "cell_type": "code",
   "execution_count": 8,
   "id": "66fad940",
   "metadata": {
    "scrolled": false
   },
   "outputs": [],
   "source": [
    "df = pd.read_csv('Data/Original/Economic/GDPPC.csv')"
   ]
  },
  {
   "cell_type": "code",
   "execution_count": 9,
   "id": "cab3579e",
   "metadata": {},
   "outputs": [
    {
     "data": {
      "text/html": [
       "<div>\n",
       "<style scoped>\n",
       "    .dataframe tbody tr th:only-of-type {\n",
       "        vertical-align: middle;\n",
       "    }\n",
       "\n",
       "    .dataframe tbody tr th {\n",
       "        vertical-align: top;\n",
       "    }\n",
       "\n",
       "    .dataframe thead th {\n",
       "        text-align: right;\n",
       "    }\n",
       "</style>\n",
       "<table border=\"1\" class=\"dataframe\">\n",
       "  <thead>\n",
       "    <tr style=\"text-align: right;\">\n",
       "      <th></th>\n",
       "      <th>Country Name</th>\n",
       "      <th>Country Code</th>\n",
       "      <th>Indicator Name</th>\n",
       "      <th>Indicator Code</th>\n",
       "      <th>1960</th>\n",
       "      <th>1961</th>\n",
       "      <th>1962</th>\n",
       "      <th>1963</th>\n",
       "      <th>1964</th>\n",
       "      <th>1965</th>\n",
       "      <th>...</th>\n",
       "      <th>2013</th>\n",
       "      <th>2014</th>\n",
       "      <th>2015</th>\n",
       "      <th>2016</th>\n",
       "      <th>2017</th>\n",
       "      <th>2018</th>\n",
       "      <th>2019</th>\n",
       "      <th>2020</th>\n",
       "      <th>2021</th>\n",
       "      <th>2022</th>\n",
       "    </tr>\n",
       "  </thead>\n",
       "  <tbody>\n",
       "    <tr>\n",
       "      <th>0</th>\n",
       "      <td>Aruba</td>\n",
       "      <td>ABW</td>\n",
       "      <td>GDP per capita (constant 2015 US$)</td>\n",
       "      <td>NY.GDP.PCAP.KD</td>\n",
       "      <td>NaN</td>\n",
       "      <td>NaN</td>\n",
       "      <td>NaN</td>\n",
       "      <td>NaN</td>\n",
       "      <td>NaN</td>\n",
       "      <td>NaN</td>\n",
       "      <td>...</td>\n",
       "      <td>29447.579770</td>\n",
       "      <td>28780.630780</td>\n",
       "      <td>28419.264530</td>\n",
       "      <td>28737.896240</td>\n",
       "      <td>30598.648730</td>\n",
       "      <td>31172.802190</td>\n",
       "      <td>30317.606910</td>\n",
       "      <td>23015.741870</td>\n",
       "      <td>29390.380730</td>\n",
       "      <td>32492.178630</td>\n",
       "    </tr>\n",
       "    <tr>\n",
       "      <th>1</th>\n",
       "      <td>Africa Eastern and Southern</td>\n",
       "      <td>AFE</td>\n",
       "      <td>GDP per capita (constant 2015 US$)</td>\n",
       "      <td>NY.GDP.PCAP.KD</td>\n",
       "      <td>1184.278679</td>\n",
       "      <td>1156.531305</td>\n",
       "      <td>1215.444933</td>\n",
       "      <td>1243.774342</td>\n",
       "      <td>1265.217141</td>\n",
       "      <td>1296.040570</td>\n",
       "      <td>...</td>\n",
       "      <td>1533.325592</td>\n",
       "      <td>1551.714858</td>\n",
       "      <td>1554.167299</td>\n",
       "      <td>1546.464495</td>\n",
       "      <td>1545.203136</td>\n",
       "      <td>1542.238527</td>\n",
       "      <td>1532.468910</td>\n",
       "      <td>1450.721534</td>\n",
       "      <td>1474.657674</td>\n",
       "      <td>1487.476418</td>\n",
       "    </tr>\n",
       "    <tr>\n",
       "      <th>2</th>\n",
       "      <td>Afghanistan</td>\n",
       "      <td>AFG</td>\n",
       "      <td>GDP per capita (constant 2015 US$)</td>\n",
       "      <td>NY.GDP.PCAP.KD</td>\n",
       "      <td>NaN</td>\n",
       "      <td>NaN</td>\n",
       "      <td>NaN</td>\n",
       "      <td>NaN</td>\n",
       "      <td>NaN</td>\n",
       "      <td>NaN</td>\n",
       "      <td>...</td>\n",
       "      <td>582.103979</td>\n",
       "      <td>576.487820</td>\n",
       "      <td>566.881133</td>\n",
       "      <td>564.920844</td>\n",
       "      <td>563.488239</td>\n",
       "      <td>553.973309</td>\n",
       "      <td>559.140957</td>\n",
       "      <td>529.144913</td>\n",
       "      <td>407.616507</td>\n",
       "      <td>NaN</td>\n",
       "    </tr>\n",
       "    <tr>\n",
       "      <th>3</th>\n",
       "      <td>Africa Western and Central</td>\n",
       "      <td>AFW</td>\n",
       "      <td>GDP per capita (constant 2015 US$)</td>\n",
       "      <td>NY.GDP.PCAP.KD</td>\n",
       "      <td>1088.785252</td>\n",
       "      <td>1086.033724</td>\n",
       "      <td>1103.334648</td>\n",
       "      <td>1158.251738</td>\n",
       "      <td>1194.531921</td>\n",
       "      <td>1216.054708</td>\n",
       "      <td>...</td>\n",
       "      <td>1824.233852</td>\n",
       "      <td>1880.612219</td>\n",
       "      <td>1882.264038</td>\n",
       "      <td>1835.149891</td>\n",
       "      <td>1827.645416</td>\n",
       "      <td>1830.664340</td>\n",
       "      <td>1840.776688</td>\n",
       "      <td>1777.026501</td>\n",
       "      <td>1801.331655</td>\n",
       "      <td>1822.878716</td>\n",
       "    </tr>\n",
       "    <tr>\n",
       "      <th>4</th>\n",
       "      <td>Angola</td>\n",
       "      <td>AGO</td>\n",
       "      <td>GDP per capita (constant 2015 US$)</td>\n",
       "      <td>NY.GDP.PCAP.KD</td>\n",
       "      <td>NaN</td>\n",
       "      <td>NaN</td>\n",
       "      <td>NaN</td>\n",
       "      <td>NaN</td>\n",
       "      <td>NaN</td>\n",
       "      <td>NaN</td>\n",
       "      <td>...</td>\n",
       "      <td>3270.966349</td>\n",
       "      <td>3304.681152</td>\n",
       "      <td>3217.339244</td>\n",
       "      <td>3023.916323</td>\n",
       "      <td>2914.127143</td>\n",
       "      <td>2777.843045</td>\n",
       "      <td>2666.253919</td>\n",
       "      <td>2435.024857</td>\n",
       "      <td>2387.429910</td>\n",
       "      <td>2385.119959</td>\n",
       "    </tr>\n",
       "  </tbody>\n",
       "</table>\n",
       "<p>5 rows × 67 columns</p>\n",
       "</div>"
      ],
      "text/plain": [
       "                  Country Name Country Code  \\\n",
       "0                        Aruba          ABW   \n",
       "1  Africa Eastern and Southern          AFE   \n",
       "2                  Afghanistan          AFG   \n",
       "3   Africa Western and Central          AFW   \n",
       "4                       Angola          AGO   \n",
       "\n",
       "                       Indicator Name  Indicator Code         1960  \\\n",
       "0  GDP per capita (constant 2015 US$)  NY.GDP.PCAP.KD          NaN   \n",
       "1  GDP per capita (constant 2015 US$)  NY.GDP.PCAP.KD  1184.278679   \n",
       "2  GDP per capita (constant 2015 US$)  NY.GDP.PCAP.KD          NaN   \n",
       "3  GDP per capita (constant 2015 US$)  NY.GDP.PCAP.KD  1088.785252   \n",
       "4  GDP per capita (constant 2015 US$)  NY.GDP.PCAP.KD          NaN   \n",
       "\n",
       "          1961         1962         1963         1964         1965  ...  \\\n",
       "0          NaN          NaN          NaN          NaN          NaN  ...   \n",
       "1  1156.531305  1215.444933  1243.774342  1265.217141  1296.040570  ...   \n",
       "2          NaN          NaN          NaN          NaN          NaN  ...   \n",
       "3  1086.033724  1103.334648  1158.251738  1194.531921  1216.054708  ...   \n",
       "4          NaN          NaN          NaN          NaN          NaN  ...   \n",
       "\n",
       "           2013          2014          2015          2016          2017  \\\n",
       "0  29447.579770  28780.630780  28419.264530  28737.896240  30598.648730   \n",
       "1   1533.325592   1551.714858   1554.167299   1546.464495   1545.203136   \n",
       "2    582.103979    576.487820    566.881133    564.920844    563.488239   \n",
       "3   1824.233852   1880.612219   1882.264038   1835.149891   1827.645416   \n",
       "4   3270.966349   3304.681152   3217.339244   3023.916323   2914.127143   \n",
       "\n",
       "           2018          2019          2020          2021          2022  \n",
       "0  31172.802190  30317.606910  23015.741870  29390.380730  32492.178630  \n",
       "1   1542.238527   1532.468910   1450.721534   1474.657674   1487.476418  \n",
       "2    553.973309    559.140957    529.144913    407.616507           NaN  \n",
       "3   1830.664340   1840.776688   1777.026501   1801.331655   1822.878716  \n",
       "4   2777.843045   2666.253919   2435.024857   2387.429910   2385.119959  \n",
       "\n",
       "[5 rows x 67 columns]"
      ]
     },
     "execution_count": 9,
     "metadata": {},
     "output_type": "execute_result"
    }
   ],
   "source": [
    "df.head()"
   ]
  },
  {
   "cell_type": "code",
   "execution_count": 10,
   "id": "b908dcce",
   "metadata": {},
   "outputs": [],
   "source": [
    "# Columns to Drop\n",
    "Drop = ['Country Code','Indicator Name','Indicator Code']"
   ]
  },
  {
   "cell_type": "code",
   "execution_count": 15,
   "id": "702c6701",
   "metadata": {},
   "outputs": [],
   "source": [
    "df = df.drop(Drop, axis=1)"
   ]
  },
  {
   "cell_type": "code",
   "execution_count": 16,
   "id": "1f5a06a0",
   "metadata": {},
   "outputs": [
    {
     "data": {
      "text/html": [
       "<div>\n",
       "<style scoped>\n",
       "    .dataframe tbody tr th:only-of-type {\n",
       "        vertical-align: middle;\n",
       "    }\n",
       "\n",
       "    .dataframe tbody tr th {\n",
       "        vertical-align: top;\n",
       "    }\n",
       "\n",
       "    .dataframe thead th {\n",
       "        text-align: right;\n",
       "    }\n",
       "</style>\n",
       "<table border=\"1\" class=\"dataframe\">\n",
       "  <thead>\n",
       "    <tr style=\"text-align: right;\">\n",
       "      <th></th>\n",
       "      <th>Country Name</th>\n",
       "      <th>1960</th>\n",
       "      <th>1961</th>\n",
       "      <th>1962</th>\n",
       "      <th>1963</th>\n",
       "      <th>1964</th>\n",
       "      <th>1965</th>\n",
       "      <th>1966</th>\n",
       "      <th>1967</th>\n",
       "      <th>1968</th>\n",
       "      <th>...</th>\n",
       "      <th>2013</th>\n",
       "      <th>2014</th>\n",
       "      <th>2015</th>\n",
       "      <th>2016</th>\n",
       "      <th>2017</th>\n",
       "      <th>2018</th>\n",
       "      <th>2019</th>\n",
       "      <th>2020</th>\n",
       "      <th>2021</th>\n",
       "      <th>2022</th>\n",
       "    </tr>\n",
       "  </thead>\n",
       "  <tbody>\n",
       "    <tr>\n",
       "      <th>0</th>\n",
       "      <td>Aruba</td>\n",
       "      <td>NaN</td>\n",
       "      <td>NaN</td>\n",
       "      <td>NaN</td>\n",
       "      <td>NaN</td>\n",
       "      <td>NaN</td>\n",
       "      <td>NaN</td>\n",
       "      <td>NaN</td>\n",
       "      <td>NaN</td>\n",
       "      <td>NaN</td>\n",
       "      <td>...</td>\n",
       "      <td>29447.579770</td>\n",
       "      <td>28780.630780</td>\n",
       "      <td>28419.264530</td>\n",
       "      <td>28737.896240</td>\n",
       "      <td>30598.648730</td>\n",
       "      <td>31172.802190</td>\n",
       "      <td>30317.606910</td>\n",
       "      <td>23015.741870</td>\n",
       "      <td>29390.380730</td>\n",
       "      <td>32492.178630</td>\n",
       "    </tr>\n",
       "    <tr>\n",
       "      <th>1</th>\n",
       "      <td>Africa Eastern and Southern</td>\n",
       "      <td>1184.278679</td>\n",
       "      <td>1156.531305</td>\n",
       "      <td>1215.444933</td>\n",
       "      <td>1243.774342</td>\n",
       "      <td>1265.217141</td>\n",
       "      <td>1296.040570</td>\n",
       "      <td>1310.188044</td>\n",
       "      <td>1341.149781</td>\n",
       "      <td>1355.868856</td>\n",
       "      <td>...</td>\n",
       "      <td>1533.325592</td>\n",
       "      <td>1551.714858</td>\n",
       "      <td>1554.167299</td>\n",
       "      <td>1546.464495</td>\n",
       "      <td>1545.203136</td>\n",
       "      <td>1542.238527</td>\n",
       "      <td>1532.468910</td>\n",
       "      <td>1450.721534</td>\n",
       "      <td>1474.657674</td>\n",
       "      <td>1487.476418</td>\n",
       "    </tr>\n",
       "    <tr>\n",
       "      <th>2</th>\n",
       "      <td>Afghanistan</td>\n",
       "      <td>NaN</td>\n",
       "      <td>NaN</td>\n",
       "      <td>NaN</td>\n",
       "      <td>NaN</td>\n",
       "      <td>NaN</td>\n",
       "      <td>NaN</td>\n",
       "      <td>NaN</td>\n",
       "      <td>NaN</td>\n",
       "      <td>NaN</td>\n",
       "      <td>...</td>\n",
       "      <td>582.103979</td>\n",
       "      <td>576.487820</td>\n",
       "      <td>566.881133</td>\n",
       "      <td>564.920844</td>\n",
       "      <td>563.488239</td>\n",
       "      <td>553.973309</td>\n",
       "      <td>559.140957</td>\n",
       "      <td>529.144913</td>\n",
       "      <td>407.616507</td>\n",
       "      <td>NaN</td>\n",
       "    </tr>\n",
       "    <tr>\n",
       "      <th>3</th>\n",
       "      <td>Africa Western and Central</td>\n",
       "      <td>1088.785252</td>\n",
       "      <td>1086.033724</td>\n",
       "      <td>1103.334648</td>\n",
       "      <td>1158.251738</td>\n",
       "      <td>1194.531921</td>\n",
       "      <td>1216.054708</td>\n",
       "      <td>1167.908841</td>\n",
       "      <td>1032.873491</td>\n",
       "      <td>1024.421961</td>\n",
       "      <td>...</td>\n",
       "      <td>1824.233852</td>\n",
       "      <td>1880.612219</td>\n",
       "      <td>1882.264038</td>\n",
       "      <td>1835.149891</td>\n",
       "      <td>1827.645416</td>\n",
       "      <td>1830.664340</td>\n",
       "      <td>1840.776688</td>\n",
       "      <td>1777.026501</td>\n",
       "      <td>1801.331655</td>\n",
       "      <td>1822.878716</td>\n",
       "    </tr>\n",
       "    <tr>\n",
       "      <th>4</th>\n",
       "      <td>Angola</td>\n",
       "      <td>NaN</td>\n",
       "      <td>NaN</td>\n",
       "      <td>NaN</td>\n",
       "      <td>NaN</td>\n",
       "      <td>NaN</td>\n",
       "      <td>NaN</td>\n",
       "      <td>NaN</td>\n",
       "      <td>NaN</td>\n",
       "      <td>NaN</td>\n",
       "      <td>...</td>\n",
       "      <td>3270.966349</td>\n",
       "      <td>3304.681152</td>\n",
       "      <td>3217.339244</td>\n",
       "      <td>3023.916323</td>\n",
       "      <td>2914.127143</td>\n",
       "      <td>2777.843045</td>\n",
       "      <td>2666.253919</td>\n",
       "      <td>2435.024857</td>\n",
       "      <td>2387.429910</td>\n",
       "      <td>2385.119959</td>\n",
       "    </tr>\n",
       "  </tbody>\n",
       "</table>\n",
       "<p>5 rows × 64 columns</p>\n",
       "</div>"
      ],
      "text/plain": [
       "                  Country Name         1960         1961         1962  \\\n",
       "0                        Aruba          NaN          NaN          NaN   \n",
       "1  Africa Eastern and Southern  1184.278679  1156.531305  1215.444933   \n",
       "2                  Afghanistan          NaN          NaN          NaN   \n",
       "3   Africa Western and Central  1088.785252  1086.033724  1103.334648   \n",
       "4                       Angola          NaN          NaN          NaN   \n",
       "\n",
       "          1963         1964         1965         1966         1967  \\\n",
       "0          NaN          NaN          NaN          NaN          NaN   \n",
       "1  1243.774342  1265.217141  1296.040570  1310.188044  1341.149781   \n",
       "2          NaN          NaN          NaN          NaN          NaN   \n",
       "3  1158.251738  1194.531921  1216.054708  1167.908841  1032.873491   \n",
       "4          NaN          NaN          NaN          NaN          NaN   \n",
       "\n",
       "          1968  ...          2013          2014          2015          2016  \\\n",
       "0          NaN  ...  29447.579770  28780.630780  28419.264530  28737.896240   \n",
       "1  1355.868856  ...   1533.325592   1551.714858   1554.167299   1546.464495   \n",
       "2          NaN  ...    582.103979    576.487820    566.881133    564.920844   \n",
       "3  1024.421961  ...   1824.233852   1880.612219   1882.264038   1835.149891   \n",
       "4          NaN  ...   3270.966349   3304.681152   3217.339244   3023.916323   \n",
       "\n",
       "           2017          2018          2019          2020          2021  \\\n",
       "0  30598.648730  31172.802190  30317.606910  23015.741870  29390.380730   \n",
       "1   1545.203136   1542.238527   1532.468910   1450.721534   1474.657674   \n",
       "2    563.488239    553.973309    559.140957    529.144913    407.616507   \n",
       "3   1827.645416   1830.664340   1840.776688   1777.026501   1801.331655   \n",
       "4   2914.127143   2777.843045   2666.253919   2435.024857   2387.429910   \n",
       "\n",
       "           2022  \n",
       "0  32492.178630  \n",
       "1   1487.476418  \n",
       "2           NaN  \n",
       "3   1822.878716  \n",
       "4   2385.119959  \n",
       "\n",
       "[5 rows x 64 columns]"
      ]
     },
     "execution_count": 16,
     "metadata": {},
     "output_type": "execute_result"
    }
   ],
   "source": [
    "df.head()"
   ]
  },
  {
   "cell_type": "code",
   "execution_count": 17,
   "id": "6e0958c5",
   "metadata": {},
   "outputs": [],
   "source": [
    "# Transforming to long format\n",
    "main_df = pd.melt(df, id_vars='Country Name', var_name='year', value_name='gdppc')"
   ]
  },
  {
   "cell_type": "code",
   "execution_count": 18,
   "id": "154cb919",
   "metadata": {},
   "outputs": [
    {
     "data": {
      "text/html": [
       "<div>\n",
       "<style scoped>\n",
       "    .dataframe tbody tr th:only-of-type {\n",
       "        vertical-align: middle;\n",
       "    }\n",
       "\n",
       "    .dataframe tbody tr th {\n",
       "        vertical-align: top;\n",
       "    }\n",
       "\n",
       "    .dataframe thead th {\n",
       "        text-align: right;\n",
       "    }\n",
       "</style>\n",
       "<table border=\"1\" class=\"dataframe\">\n",
       "  <thead>\n",
       "    <tr style=\"text-align: right;\">\n",
       "      <th></th>\n",
       "      <th>Country Name</th>\n",
       "      <th>year</th>\n",
       "      <th>gdppc</th>\n",
       "    </tr>\n",
       "  </thead>\n",
       "  <tbody>\n",
       "    <tr>\n",
       "      <th>0</th>\n",
       "      <td>Aruba</td>\n",
       "      <td>1960</td>\n",
       "      <td>NaN</td>\n",
       "    </tr>\n",
       "    <tr>\n",
       "      <th>1</th>\n",
       "      <td>Africa Eastern and Southern</td>\n",
       "      <td>1960</td>\n",
       "      <td>1184.278679</td>\n",
       "    </tr>\n",
       "    <tr>\n",
       "      <th>2</th>\n",
       "      <td>Afghanistan</td>\n",
       "      <td>1960</td>\n",
       "      <td>NaN</td>\n",
       "    </tr>\n",
       "    <tr>\n",
       "      <th>3</th>\n",
       "      <td>Africa Western and Central</td>\n",
       "      <td>1960</td>\n",
       "      <td>1088.785252</td>\n",
       "    </tr>\n",
       "    <tr>\n",
       "      <th>4</th>\n",
       "      <td>Angola</td>\n",
       "      <td>1960</td>\n",
       "      <td>NaN</td>\n",
       "    </tr>\n",
       "  </tbody>\n",
       "</table>\n",
       "</div>"
      ],
      "text/plain": [
       "                  Country Name  year        gdppc\n",
       "0                        Aruba  1960          NaN\n",
       "1  Africa Eastern and Southern  1960  1184.278679\n",
       "2                  Afghanistan  1960          NaN\n",
       "3   Africa Western and Central  1960  1088.785252\n",
       "4                       Angola  1960          NaN"
      ]
     },
     "execution_count": 18,
     "metadata": {},
     "output_type": "execute_result"
    }
   ],
   "source": [
    "main_df.head()"
   ]
  },
  {
   "cell_type": "code",
   "execution_count": 19,
   "id": "9649d204",
   "metadata": {},
   "outputs": [],
   "source": [
    "# Creating a function for it now"
   ]
  },
  {
   "cell_type": "code",
   "execution_count": 20,
   "id": "9c401a1d",
   "metadata": {},
   "outputs": [],
   "source": [
    "def clean_wb(original_df):\n",
    "    # Columns to drop\n",
    "    columns_to_drop = ['Country Code', 'Indicator Name', 'Indicator Code']\n",
    "\n",
    "    # Drop specified columns\n",
    "    processed_df = original_df.drop(columns_to_drop, axis=1)\n",
    "\n",
    "    # Transform to long format\n",
    "    clean_df = pd.melt(processed_df, id_vars='Country Name', var_name='year', value_name='Value')\n",
    "\n",
    "    return clean_df\n"
   ]
  },
  {
   "cell_type": "code",
   "execution_count": 24,
   "id": "698a38e1",
   "metadata": {},
   "outputs": [],
   "source": [
    "# Testing on GDPPC\n",
    "gdppc = pd.read_csv('Data/Original/Economic/GDPPC.csv')"
   ]
  },
  {
   "cell_type": "code",
   "execution_count": 25,
   "id": "99ad21fe",
   "metadata": {},
   "outputs": [],
   "source": [
    "gdppc_clean = clean_wb(gdppc)"
   ]
  },
  {
   "cell_type": "code",
   "execution_count": 36,
   "id": "29a54e8b",
   "metadata": {},
   "outputs": [
    {
     "data": {
      "text/html": [
       "<div>\n",
       "<style scoped>\n",
       "    .dataframe tbody tr th:only-of-type {\n",
       "        vertical-align: middle;\n",
       "    }\n",
       "\n",
       "    .dataframe tbody tr th {\n",
       "        vertical-align: top;\n",
       "    }\n",
       "\n",
       "    .dataframe thead th {\n",
       "        text-align: right;\n",
       "    }\n",
       "</style>\n",
       "<table border=\"1\" class=\"dataframe\">\n",
       "  <thead>\n",
       "    <tr style=\"text-align: right;\">\n",
       "      <th></th>\n",
       "      <th>Country Name</th>\n",
       "      <th>year</th>\n",
       "      <th>Value</th>\n",
       "    </tr>\n",
       "  </thead>\n",
       "  <tbody>\n",
       "    <tr>\n",
       "      <th>0</th>\n",
       "      <td>Aruba</td>\n",
       "      <td>1960</td>\n",
       "      <td>NaN</td>\n",
       "    </tr>\n",
       "    <tr>\n",
       "      <th>1</th>\n",
       "      <td>Africa Eastern and Southern</td>\n",
       "      <td>1960</td>\n",
       "      <td>1184.278679</td>\n",
       "    </tr>\n",
       "    <tr>\n",
       "      <th>2</th>\n",
       "      <td>Afghanistan</td>\n",
       "      <td>1960</td>\n",
       "      <td>NaN</td>\n",
       "    </tr>\n",
       "    <tr>\n",
       "      <th>3</th>\n",
       "      <td>Africa Western and Central</td>\n",
       "      <td>1960</td>\n",
       "      <td>1088.785252</td>\n",
       "    </tr>\n",
       "    <tr>\n",
       "      <th>4</th>\n",
       "      <td>Angola</td>\n",
       "      <td>1960</td>\n",
       "      <td>NaN</td>\n",
       "    </tr>\n",
       "  </tbody>\n",
       "</table>\n",
       "</div>"
      ],
      "text/plain": [
       "                  Country Name  year        Value\n",
       "0                        Aruba  1960          NaN\n",
       "1  Africa Eastern and Southern  1960  1184.278679\n",
       "2                  Afghanistan  1960          NaN\n",
       "3   Africa Western and Central  1960  1088.785252\n",
       "4                       Angola  1960          NaN"
      ]
     },
     "execution_count": 36,
     "metadata": {},
     "output_type": "execute_result"
    }
   ],
   "source": [
    "gdppc_clean.head()"
   ]
  },
  {
   "cell_type": "code",
   "execution_count": 37,
   "id": "026b9bbe",
   "metadata": {},
   "outputs": [],
   "source": [
    "# It works!\n",
    "# Applying for the rest of the WB Economic Values"
   ]
  },
  {
   "cell_type": "code",
   "execution_count": null,
   "id": "91a55d9a",
   "metadata": {},
   "outputs": [],
   "source": [
    "# gdppc_clean.to_csv('Data/Clean/Economic/GDPPC.csv', index = False)"
   ]
  },
  {
   "cell_type": "code",
   "execution_count": 41,
   "id": "961e889d",
   "metadata": {},
   "outputs": [],
   "source": [
    "# Updating Function\n",
    "def clean_wb(original_df):\n",
    "    # Columns to drop\n",
    "    columns_to_drop = ['Country Code', 'Indicator Name', 'Indicator Code']\n",
    "\n",
    "    # Drop specified columns\n",
    "    processed_df = original_df.drop(columns_to_drop, axis=1)\n",
    "    \n",
    "    # Rename 'Country Name' column to 'country'\n",
    "    processed_df.rename(columns={'Country Name': 'country'}, inplace=True)\n",
    "\n",
    "    # Transform to long format\n",
    "    clean_df = pd.melt(processed_df, id_vars='country', var_name='year', value_name='value')\n",
    "    \n",
    "    # Printing the head of the Clean df\n",
    "    print(clean_df.head())\n",
    "\n",
    "    return clean_df\n"
   ]
  },
  {
   "cell_type": "code",
   "execution_count": 42,
   "id": "715786d2",
   "metadata": {
    "scrolled": true
   },
   "outputs": [
    {
     "name": "stdout",
     "output_type": "stream",
     "text": [
      "                       country  year        value\n",
      "0                        Aruba  1960          NaN\n",
      "1  Africa Eastern and Southern  1960  1184.278679\n",
      "2                  Afghanistan  1960          NaN\n",
      "3   Africa Western and Central  1960  1088.785252\n",
      "4                       Angola  1960          NaN\n"
     ]
    }
   ],
   "source": [
    "gdppc_clean = clean_wb(gdppc)"
   ]
  },
  {
   "cell_type": "code",
   "execution_count": 43,
   "id": "6474084f",
   "metadata": {},
   "outputs": [],
   "source": [
    "# Exporting Data\n",
    "gdppc_clean.to_csv('Data/Clean/Economic/GDPPC.csv', index = False)"
   ]
  },
  {
   "cell_type": "code",
   "execution_count": null,
   "id": "919deb72",
   "metadata": {},
   "outputs": [],
   "source": [
    "# GDP Growth"
   ]
  },
  {
   "cell_type": "code",
   "execution_count": 44,
   "id": "9a60375c",
   "metadata": {},
   "outputs": [],
   "source": [
    "GDP_G = pd.read_csv('Data/Original/Economic/GDP-Growth.csv')"
   ]
  },
  {
   "cell_type": "code",
   "execution_count": 45,
   "id": "87a69f62",
   "metadata": {
    "scrolled": true
   },
   "outputs": [
    {
     "name": "stdout",
     "output_type": "stream",
     "text": [
      "                       country  year  value\n",
      "0                        Aruba  1960    NaN\n",
      "1  Africa Eastern and Southern  1960    NaN\n",
      "2                  Afghanistan  1960    NaN\n",
      "3   Africa Western and Central  1960    NaN\n",
      "4                       Angola  1960    NaN\n"
     ]
    }
   ],
   "source": [
    "GDP_G_clean = clean_wb(GDP_G)"
   ]
  },
  {
   "cell_type": "code",
   "execution_count": 46,
   "id": "638dffce",
   "metadata": {},
   "outputs": [],
   "source": [
    "# Exporting Data\n",
    "GDP_G_clean.to_csv('Data/Clean/Economic/GDP_Growth.csv', index = False)"
   ]
  },
  {
   "cell_type": "code",
   "execution_count": 47,
   "id": "3526ce62",
   "metadata": {},
   "outputs": [],
   "source": [
    "# GINI"
   ]
  },
  {
   "cell_type": "code",
   "execution_count": 49,
   "id": "7a9fc4e6",
   "metadata": {},
   "outputs": [],
   "source": [
    "GINI = pd.read_csv('Data/Original/Economic/GINI.csv')"
   ]
  },
  {
   "cell_type": "code",
   "execution_count": 50,
   "id": "5928a1b0",
   "metadata": {},
   "outputs": [
    {
     "name": "stdout",
     "output_type": "stream",
     "text": [
      "                       country  year  value\n",
      "0                        Aruba  1960    NaN\n",
      "1  Africa Eastern and Southern  1960    NaN\n",
      "2                  Afghanistan  1960    NaN\n",
      "3   Africa Western and Central  1960    NaN\n",
      "4                       Angola  1960    NaN\n"
     ]
    }
   ],
   "source": [
    "GINI_clean = clean_wb(GINI)"
   ]
  },
  {
   "cell_type": "code",
   "execution_count": 51,
   "id": "15f408f4",
   "metadata": {},
   "outputs": [],
   "source": [
    "# Exporting Data\n",
    "GINI_clean.to_csv('Data/Clean/Economic/GINI.csv', index = False)"
   ]
  },
  {
   "cell_type": "code",
   "execution_count": null,
   "id": "fbf493e1",
   "metadata": {},
   "outputs": [],
   "source": [
    "# Gov Debt"
   ]
  },
  {
   "cell_type": "code",
   "execution_count": 52,
   "id": "1dbae3e0",
   "metadata": {},
   "outputs": [],
   "source": [
    "Gov_Debt = pd.read_csv('Data/Original/Economic/Government-Debt.csv')"
   ]
  },
  {
   "cell_type": "code",
   "execution_count": 53,
   "id": "024541b0",
   "metadata": {},
   "outputs": [
    {
     "name": "stdout",
     "output_type": "stream",
     "text": [
      "                       country  year  value\n",
      "0                        Aruba  1960    NaN\n",
      "1  Africa Eastern and Southern  1960    NaN\n",
      "2                  Afghanistan  1960    NaN\n",
      "3   Africa Western and Central  1960    NaN\n",
      "4                       Angola  1960    NaN\n"
     ]
    }
   ],
   "source": [
    "Gov_Debt_clean = clean_wb(Gov_Debt)"
   ]
  },
  {
   "cell_type": "code",
   "execution_count": 54,
   "id": "8038d3da",
   "metadata": {},
   "outputs": [],
   "source": [
    "# Exporting Data\n",
    "Gov_Debt_clean.to_csv('Data/Clean/Economic/Gov-Debt.csv', index = False)"
   ]
  },
  {
   "cell_type": "code",
   "execution_count": 55,
   "id": "5899661a",
   "metadata": {},
   "outputs": [],
   "source": [
    "# Inflation"
   ]
  },
  {
   "cell_type": "code",
   "execution_count": 56,
   "id": "1c5fabbd",
   "metadata": {},
   "outputs": [],
   "source": [
    "Inflation = pd.read_csv('Data/Original/Economic/Inflation.csv')"
   ]
  },
  {
   "cell_type": "code",
   "execution_count": 57,
   "id": "9a27400b",
   "metadata": {},
   "outputs": [
    {
     "name": "stdout",
     "output_type": "stream",
     "text": [
      "                       country  year  value\n",
      "0                        Aruba  1960    NaN\n",
      "1  Africa Eastern and Southern  1960    NaN\n",
      "2                  Afghanistan  1960    NaN\n",
      "3   Africa Western and Central  1960    NaN\n",
      "4                       Angola  1960    NaN\n"
     ]
    }
   ],
   "source": [
    "Inflation_clean = clean_wb(Inflation)"
   ]
  },
  {
   "cell_type": "code",
   "execution_count": 58,
   "id": "1ce71dee",
   "metadata": {},
   "outputs": [],
   "source": [
    "# Exporting Data\n",
    "Inflation_clean.to_csv('Data/Clean/Economic/Inflation.csv', index = False)"
   ]
  },
  {
   "cell_type": "code",
   "execution_count": 59,
   "id": "598bc57c",
   "metadata": {},
   "outputs": [],
   "source": [
    "# Life Expectancy"
   ]
  },
  {
   "cell_type": "code",
   "execution_count": 60,
   "id": "79248a29",
   "metadata": {},
   "outputs": [],
   "source": [
    "Life_Exp = pd.read_csv('Data/Original/Economic/Life-Expectancy.csv')"
   ]
  },
  {
   "cell_type": "code",
   "execution_count": 61,
   "id": "07551f7c",
   "metadata": {},
   "outputs": [
    {
     "name": "stdout",
     "output_type": "stream",
     "text": [
      "                       country  year      value\n",
      "0                        Aruba  1960  64.152000\n",
      "1  Africa Eastern and Southern  1960  44.085552\n",
      "2                  Afghanistan  1960  32.535000\n",
      "3   Africa Western and Central  1960  37.845152\n",
      "4                       Angola  1960  38.211000\n"
     ]
    }
   ],
   "source": [
    "Life_Exp_clean = clean_wb(Life_Exp)"
   ]
  },
  {
   "cell_type": "code",
   "execution_count": 62,
   "id": "c72eb184",
   "metadata": {},
   "outputs": [],
   "source": [
    "# Exporting Data\n",
    "Life_Exp_clean.to_csv('Data/Clean/Economic/Life_Exp.csv', index = False)"
   ]
  },
  {
   "cell_type": "code",
   "execution_count": 63,
   "id": "7a91b7af",
   "metadata": {},
   "outputs": [],
   "source": [
    "# Unemployment Rate"
   ]
  },
  {
   "cell_type": "code",
   "execution_count": 65,
   "id": "4753a350",
   "metadata": {},
   "outputs": [],
   "source": [
    "Unemployment = pd.read_csv('Data/Original/Economic/Unemployment-Rate.csv')"
   ]
  },
  {
   "cell_type": "code",
   "execution_count": 66,
   "id": "b72740c6",
   "metadata": {},
   "outputs": [
    {
     "name": "stdout",
     "output_type": "stream",
     "text": [
      "                       country  year  value\n",
      "0                        Aruba  1960    NaN\n",
      "1  Africa Eastern and Southern  1960    NaN\n",
      "2                  Afghanistan  1960    NaN\n",
      "3   Africa Western and Central  1960    NaN\n",
      "4                       Angola  1960    NaN\n"
     ]
    }
   ],
   "source": [
    "Unemployment_clean = clean_wb(Unemployment)"
   ]
  },
  {
   "cell_type": "code",
   "execution_count": 67,
   "id": "88943a32",
   "metadata": {},
   "outputs": [],
   "source": [
    "# Exporting Data\n",
    "Unemployment_clean.to_csv('Data/Clean/Economic/Unemployment.csv', index = False)"
   ]
  },
  {
   "cell_type": "code",
   "execution_count": null,
   "id": "c8cadb84",
   "metadata": {},
   "outputs": [],
   "source": []
  }
 ],
 "metadata": {
  "kernelspec": {
   "display_name": "Python 3 (ipykernel)",
   "language": "python",
   "name": "python3"
  },
  "language_info": {
   "codemirror_mode": {
    "name": "ipython",
    "version": 3
   },
   "file_extension": ".py",
   "mimetype": "text/x-python",
   "name": "python",
   "nbconvert_exporter": "python",
   "pygments_lexer": "ipython3",
   "version": "3.10.9"
  }
 },
 "nbformat": 4,
 "nbformat_minor": 5
}
