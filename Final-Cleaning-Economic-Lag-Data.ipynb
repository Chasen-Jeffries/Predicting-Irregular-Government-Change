{
 "cells": [
  {
   "cell_type": "markdown",
   "metadata": {},
   "source": [
    "# Final-Cleaning-Economic-Lag-Data\n",
    "\n",
    "This file will create 3 lagged time frames for the economic data (1 year, 5 years, 10 years)"
   ]
  },
  {
   "cell_type": "code",
   "execution_count": 72,
   "metadata": {},
   "outputs": [],
   "source": [
    "# Importing Packages\n",
    "import pandas as pd\n",
    "import numpy as np"
   ]
  },
  {
   "cell_type": "code",
   "execution_count": 73,
   "metadata": {},
   "outputs": [
    {
     "data": {
      "text/html": [
       "<div>\n",
       "<style scoped>\n",
       "    .dataframe tbody tr th:only-of-type {\n",
       "        vertical-align: middle;\n",
       "    }\n",
       "\n",
       "    .dataframe tbody tr th {\n",
       "        vertical-align: top;\n",
       "    }\n",
       "\n",
       "    .dataframe thead th {\n",
       "        text-align: right;\n",
       "    }\n",
       "</style>\n",
       "<table border=\"1\" class=\"dataframe\">\n",
       "  <thead>\n",
       "    <tr style=\"text-align: right;\">\n",
       "      <th></th>\n",
       "      <th>Country</th>\n",
       "      <th>Year</th>\n",
       "      <th>GDPPC</th>\n",
       "      <th>GDP_Growth</th>\n",
       "      <th>GINI</th>\n",
       "      <th>Gov_Debt</th>\n",
       "      <th>Inflation</th>\n",
       "      <th>Life_Exp</th>\n",
       "      <th>Unemployment</th>\n",
       "      <th>Edu</th>\n",
       "      <th>PI</th>\n",
       "    </tr>\n",
       "  </thead>\n",
       "  <tbody>\n",
       "    <tr>\n",
       "      <th>0</th>\n",
       "      <td>Afghanistan</td>\n",
       "      <td>1960</td>\n",
       "      <td>NaN</td>\n",
       "      <td>NaN</td>\n",
       "      <td>NaN</td>\n",
       "      <td>NaN</td>\n",
       "      <td>NaN</td>\n",
       "      <td>32.535000</td>\n",
       "      <td>NaN</td>\n",
       "      <td>0.37</td>\n",
       "      <td>0</td>\n",
       "    </tr>\n",
       "    <tr>\n",
       "      <th>1</th>\n",
       "      <td>Albania</td>\n",
       "      <td>1960</td>\n",
       "      <td>NaN</td>\n",
       "      <td>NaN</td>\n",
       "      <td>NaN</td>\n",
       "      <td>NaN</td>\n",
       "      <td>NaN</td>\n",
       "      <td>54.439000</td>\n",
       "      <td>NaN</td>\n",
       "      <td>2.98</td>\n",
       "      <td>0</td>\n",
       "    </tr>\n",
       "    <tr>\n",
       "      <th>2</th>\n",
       "      <td>Argentina</td>\n",
       "      <td>1960</td>\n",
       "      <td>7410.305029</td>\n",
       "      <td>NaN</td>\n",
       "      <td>NaN</td>\n",
       "      <td>NaN</td>\n",
       "      <td>NaN</td>\n",
       "      <td>63.978000</td>\n",
       "      <td>NaN</td>\n",
       "      <td>5.67</td>\n",
       "      <td>6375</td>\n",
       "    </tr>\n",
       "    <tr>\n",
       "      <th>3</th>\n",
       "      <td>Australia</td>\n",
       "      <td>1960</td>\n",
       "      <td>19904.943410</td>\n",
       "      <td>NaN</td>\n",
       "      <td>NaN</td>\n",
       "      <td>NaN</td>\n",
       "      <td>3.728814</td>\n",
       "      <td>70.817073</td>\n",
       "      <td>NaN</td>\n",
       "      <td>8.53</td>\n",
       "      <td>312</td>\n",
       "    </tr>\n",
       "    <tr>\n",
       "      <th>4</th>\n",
       "      <td>Austria</td>\n",
       "      <td>1960</td>\n",
       "      <td>12051.151170</td>\n",
       "      <td>NaN</td>\n",
       "      <td>NaN</td>\n",
       "      <td>NaN</td>\n",
       "      <td>1.945749</td>\n",
       "      <td>68.585610</td>\n",
       "      <td>NaN</td>\n",
       "      <td>5.86</td>\n",
       "      <td>562</td>\n",
       "    </tr>\n",
       "  </tbody>\n",
       "</table>\n",
       "</div>"
      ],
      "text/plain": [
       "       Country  Year         GDPPC  GDP_Growth  GINI  Gov_Debt  Inflation  \\\n",
       "0  Afghanistan  1960           NaN         NaN   NaN       NaN        NaN   \n",
       "1      Albania  1960           NaN         NaN   NaN       NaN        NaN   \n",
       "2    Argentina  1960   7410.305029         NaN   NaN       NaN        NaN   \n",
       "3    Australia  1960  19904.943410         NaN   NaN       NaN   3.728814   \n",
       "4      Austria  1960  12051.151170         NaN   NaN       NaN   1.945749   \n",
       "\n",
       "    Life_Exp  Unemployment   Edu    PI  \n",
       "0  32.535000           NaN  0.37     0  \n",
       "1  54.439000           NaN  2.98     0  \n",
       "2  63.978000           NaN  5.67  6375  \n",
       "3  70.817073           NaN  8.53   312  \n",
       "4  68.585610           NaN  5.86   562  "
      ]
     },
     "execution_count": 73,
     "metadata": {},
     "output_type": "execute_result"
    }
   ],
   "source": [
    "Economic_Data = pd.read_csv('Data/Clean/Combined/Economic-Data.csv')\n",
    "Economic_Data.head()"
   ]
  },
  {
   "cell_type": "markdown",
   "metadata": {},
   "source": [
    "## Lag 1 Year Data"
   ]
  },
  {
   "cell_type": "code",
   "execution_count": 74,
   "metadata": {},
   "outputs": [],
   "source": [
    "# Create DataFrame\n",
    "data = pd.DataFrame(Economic_Data)\n",
    "\n"
   ]
  },
  {
   "cell_type": "markdown",
   "metadata": {},
   "source": [
    "## Creating Lag Data Functions"
   ]
  },
  {
   "cell_type": "code",
   "execution_count": 75,
   "metadata": {},
   "outputs": [],
   "source": [
    "def lag_data(df, lag, key_columns=['Year', 'Country','PI']):\n",
    "    # Make a copy of the DataFrame to avoid modifying the original\n",
    "    df_copy = df.copy()\n",
    "\n",
    "    # Ensure the key columns are set as the index\n",
    "    df_copy.set_index(key_columns, inplace=True)\n",
    "    \n",
    "    # Identify columns to lag (all columns except the key columns)\n",
    "    columns_to_lag = [col for col in df_copy.columns if col not in key_columns]\n",
    "    \n",
    "    # Apply lag, ensuring it's done within each group defined by 'Country' in the index\n",
    "    # This assumes 'Country' is one of the key columns and thus part of the multi-level index\n",
    "    for column in columns_to_lag:\n",
    "        df_copy[column] = df_copy.groupby(level='Country')[column].shift(lag)\n",
    "    \n",
    "    # Reset the index to return to the original structure\n",
    "    df_reset = df_copy.reset_index()\n",
    "\n",
    "    return df_reset"
   ]
  },
  {
   "cell_type": "code",
   "execution_count": 76,
   "metadata": {},
   "outputs": [],
   "source": [
    "df = data\n",
    "lag_amount = 1\n",
    "df_01 = lag_data(df, lag_amount)\n",
    "\n",
    "# Exporting DF Lag 1 Year\n",
    "df_01.to_csv('Data/Clean/Final/Economic-01.csv', index = False)"
   ]
  },
  {
   "cell_type": "code",
   "execution_count": 77,
   "metadata": {},
   "outputs": [],
   "source": [
    "df = data\n",
    "lag_amount = 2\n",
    "df_05 = lag_data(df, lag_amount)\n",
    "\n",
    "# Exporting DF Lag 1 Year\n",
    "df_05.to_csv('Data/Clean/Final/Economic-05.csv', index = False)"
   ]
  },
  {
   "cell_type": "code",
   "execution_count": 78,
   "metadata": {},
   "outputs": [],
   "source": [
    "df = data\n",
    "lag_amount = 3\n",
    "df_10 = lag_data(df, lag_amount)\n",
    "\n",
    "# Exporting DF Lag 1 Year\n",
    "df_10.to_csv('Data/Clean/Final/Economic-10.csv', index = False)"
   ]
  }
 ],
 "metadata": {
  "kernelspec": {
   "display_name": "Python 3",
   "language": "python",
   "name": "python3"
  },
  "language_info": {
   "codemirror_mode": {
    "name": "ipython",
    "version": 3
   },
   "file_extension": ".py",
   "mimetype": "text/x-python",
   "name": "python",
   "nbconvert_exporter": "python",
   "pygments_lexer": "ipython3",
   "version": "3.11.4"
  }
 },
 "nbformat": 4,
 "nbformat_minor": 2
}
